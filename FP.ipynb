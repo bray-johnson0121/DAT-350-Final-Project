{
 "cells": [
  {
   "cell_type": "markdown",
   "metadata": {},
   "source": [
    "# Diabetes Prediction"
   ]
  },
  {
   "cell_type": "code",
   "execution_count": 1,
   "metadata": {},
   "outputs": [],
   "source": [
    "#pip install scikit-optimize\n"
   ]
  },
  {
   "cell_type": "code",
   "execution_count": 2,
   "metadata": {},
   "outputs": [],
   "source": [
    "# import libraries\n",
    "import pandas as pd\n",
    "import matplotlib.pyplot as plt\n",
    "import seaborn as sns\n",
    "from sklearn.preprocessing import OneHotEncoder\n",
    "import numpy as np\n",
    "from sklearn.model_selection import train_test_split\n",
    "from sklearn.preprocessing import StandardScaler\n",
    "from sklearn.linear_model import LogisticRegression\n",
    "from sklearn.svm import SVC\n",
    "from sklearn.model_selection import GridSearchCV\n",
    "from sklearn.neural_network import MLPClassifier\n",
    "from sklearn.tree import DecisionTreeClassifier\n",
    "from sklearn.ensemble import RandomForestClassifier\n",
    "from sklearn.neighbors import KNeighborsClassifier\n"
   ]
  },
  {
   "cell_type": "markdown",
   "metadata": {},
   "source": [
    "---"
   ]
  },
  {
   "cell_type": "markdown",
   "metadata": {},
   "source": [
    "## Exploring the Dataset"
   ]
  },
  {
   "cell_type": "code",
   "execution_count": 3,
   "metadata": {},
   "outputs": [
    {
     "data": {
      "text/html": [
       "<div>\n",
       "<style scoped>\n",
       "    .dataframe tbody tr th:only-of-type {\n",
       "        vertical-align: middle;\n",
       "    }\n",
       "\n",
       "    .dataframe tbody tr th {\n",
       "        vertical-align: top;\n",
       "    }\n",
       "\n",
       "    .dataframe thead th {\n",
       "        text-align: right;\n",
       "    }\n",
       "</style>\n",
       "<table border=\"1\" class=\"dataframe\">\n",
       "  <thead>\n",
       "    <tr style=\"text-align: right;\">\n",
       "      <th></th>\n",
       "      <th>gender</th>\n",
       "      <th>age</th>\n",
       "      <th>hypertension</th>\n",
       "      <th>heart_disease</th>\n",
       "      <th>smoking_history</th>\n",
       "      <th>bmi</th>\n",
       "      <th>HbA1c_level</th>\n",
       "      <th>blood_glucose_level</th>\n",
       "      <th>diabetes</th>\n",
       "    </tr>\n",
       "  </thead>\n",
       "  <tbody>\n",
       "    <tr>\n",
       "      <th>0</th>\n",
       "      <td>Female</td>\n",
       "      <td>80.0</td>\n",
       "      <td>0</td>\n",
       "      <td>1</td>\n",
       "      <td>never</td>\n",
       "      <td>25.19</td>\n",
       "      <td>6.6</td>\n",
       "      <td>140</td>\n",
       "      <td>0</td>\n",
       "    </tr>\n",
       "    <tr>\n",
       "      <th>1</th>\n",
       "      <td>Female</td>\n",
       "      <td>54.0</td>\n",
       "      <td>0</td>\n",
       "      <td>0</td>\n",
       "      <td>No Info</td>\n",
       "      <td>27.32</td>\n",
       "      <td>6.6</td>\n",
       "      <td>80</td>\n",
       "      <td>0</td>\n",
       "    </tr>\n",
       "    <tr>\n",
       "      <th>2</th>\n",
       "      <td>Male</td>\n",
       "      <td>28.0</td>\n",
       "      <td>0</td>\n",
       "      <td>0</td>\n",
       "      <td>never</td>\n",
       "      <td>27.32</td>\n",
       "      <td>5.7</td>\n",
       "      <td>158</td>\n",
       "      <td>0</td>\n",
       "    </tr>\n",
       "    <tr>\n",
       "      <th>3</th>\n",
       "      <td>Female</td>\n",
       "      <td>36.0</td>\n",
       "      <td>0</td>\n",
       "      <td>0</td>\n",
       "      <td>current</td>\n",
       "      <td>23.45</td>\n",
       "      <td>5.0</td>\n",
       "      <td>155</td>\n",
       "      <td>0</td>\n",
       "    </tr>\n",
       "    <tr>\n",
       "      <th>4</th>\n",
       "      <td>Male</td>\n",
       "      <td>76.0</td>\n",
       "      <td>1</td>\n",
       "      <td>1</td>\n",
       "      <td>current</td>\n",
       "      <td>20.14</td>\n",
       "      <td>4.8</td>\n",
       "      <td>155</td>\n",
       "      <td>0</td>\n",
       "    </tr>\n",
       "  </tbody>\n",
       "</table>\n",
       "</div>"
      ],
      "text/plain": [
       "   gender   age  hypertension  heart_disease smoking_history    bmi  \\\n",
       "0  Female  80.0             0              1           never  25.19   \n",
       "1  Female  54.0             0              0         No Info  27.32   \n",
       "2    Male  28.0             0              0           never  27.32   \n",
       "3  Female  36.0             0              0         current  23.45   \n",
       "4    Male  76.0             1              1         current  20.14   \n",
       "\n",
       "   HbA1c_level  blood_glucose_level  diabetes  \n",
       "0          6.6                  140         0  \n",
       "1          6.6                   80         0  \n",
       "2          5.7                  158         0  \n",
       "3          5.0                  155         0  \n",
       "4          4.8                  155         0  "
      ]
     },
     "execution_count": 3,
     "metadata": {},
     "output_type": "execute_result"
    }
   ],
   "source": [
    "# load the data\n",
    "rawDF = pd.read_csv(\"diabetesData.csv\")\n",
    "\n",
    "rawDF.head()"
   ]
  },
  {
   "cell_type": "code",
   "execution_count": 4,
   "metadata": {},
   "outputs": [
    {
     "data": {
      "text/html": [
       "<div>\n",
       "<style scoped>\n",
       "    .dataframe tbody tr th:only-of-type {\n",
       "        vertical-align: middle;\n",
       "    }\n",
       "\n",
       "    .dataframe tbody tr th {\n",
       "        vertical-align: top;\n",
       "    }\n",
       "\n",
       "    .dataframe thead th {\n",
       "        text-align: right;\n",
       "    }\n",
       "</style>\n",
       "<table border=\"1\" class=\"dataframe\">\n",
       "  <thead>\n",
       "    <tr style=\"text-align: right;\">\n",
       "      <th></th>\n",
       "      <th>age</th>\n",
       "      <th>hypertension</th>\n",
       "      <th>heart_disease</th>\n",
       "      <th>bmi</th>\n",
       "      <th>HbA1c_level</th>\n",
       "      <th>blood_glucose_level</th>\n",
       "      <th>diabetes</th>\n",
       "    </tr>\n",
       "  </thead>\n",
       "  <tbody>\n",
       "    <tr>\n",
       "      <th>count</th>\n",
       "      <td>100000.000000</td>\n",
       "      <td>100000.00000</td>\n",
       "      <td>100000.000000</td>\n",
       "      <td>100000.000000</td>\n",
       "      <td>100000.000000</td>\n",
       "      <td>100000.000000</td>\n",
       "      <td>100000.000000</td>\n",
       "    </tr>\n",
       "    <tr>\n",
       "      <th>mean</th>\n",
       "      <td>41.885856</td>\n",
       "      <td>0.07485</td>\n",
       "      <td>0.039420</td>\n",
       "      <td>27.320767</td>\n",
       "      <td>5.527507</td>\n",
       "      <td>138.058060</td>\n",
       "      <td>0.085000</td>\n",
       "    </tr>\n",
       "    <tr>\n",
       "      <th>std</th>\n",
       "      <td>22.516840</td>\n",
       "      <td>0.26315</td>\n",
       "      <td>0.194593</td>\n",
       "      <td>6.636783</td>\n",
       "      <td>1.070672</td>\n",
       "      <td>40.708136</td>\n",
       "      <td>0.278883</td>\n",
       "    </tr>\n",
       "    <tr>\n",
       "      <th>min</th>\n",
       "      <td>0.080000</td>\n",
       "      <td>0.00000</td>\n",
       "      <td>0.000000</td>\n",
       "      <td>10.010000</td>\n",
       "      <td>3.500000</td>\n",
       "      <td>80.000000</td>\n",
       "      <td>0.000000</td>\n",
       "    </tr>\n",
       "    <tr>\n",
       "      <th>25%</th>\n",
       "      <td>24.000000</td>\n",
       "      <td>0.00000</td>\n",
       "      <td>0.000000</td>\n",
       "      <td>23.630000</td>\n",
       "      <td>4.800000</td>\n",
       "      <td>100.000000</td>\n",
       "      <td>0.000000</td>\n",
       "    </tr>\n",
       "    <tr>\n",
       "      <th>50%</th>\n",
       "      <td>43.000000</td>\n",
       "      <td>0.00000</td>\n",
       "      <td>0.000000</td>\n",
       "      <td>27.320000</td>\n",
       "      <td>5.800000</td>\n",
       "      <td>140.000000</td>\n",
       "      <td>0.000000</td>\n",
       "    </tr>\n",
       "    <tr>\n",
       "      <th>75%</th>\n",
       "      <td>60.000000</td>\n",
       "      <td>0.00000</td>\n",
       "      <td>0.000000</td>\n",
       "      <td>29.580000</td>\n",
       "      <td>6.200000</td>\n",
       "      <td>159.000000</td>\n",
       "      <td>0.000000</td>\n",
       "    </tr>\n",
       "    <tr>\n",
       "      <th>max</th>\n",
       "      <td>80.000000</td>\n",
       "      <td>1.00000</td>\n",
       "      <td>1.000000</td>\n",
       "      <td>95.690000</td>\n",
       "      <td>9.000000</td>\n",
       "      <td>300.000000</td>\n",
       "      <td>1.000000</td>\n",
       "    </tr>\n",
       "  </tbody>\n",
       "</table>\n",
       "</div>"
      ],
      "text/plain": [
       "                 age  hypertension  heart_disease            bmi  \\\n",
       "count  100000.000000  100000.00000  100000.000000  100000.000000   \n",
       "mean       41.885856       0.07485       0.039420      27.320767   \n",
       "std        22.516840       0.26315       0.194593       6.636783   \n",
       "min         0.080000       0.00000       0.000000      10.010000   \n",
       "25%        24.000000       0.00000       0.000000      23.630000   \n",
       "50%        43.000000       0.00000       0.000000      27.320000   \n",
       "75%        60.000000       0.00000       0.000000      29.580000   \n",
       "max        80.000000       1.00000       1.000000      95.690000   \n",
       "\n",
       "         HbA1c_level  blood_glucose_level       diabetes  \n",
       "count  100000.000000        100000.000000  100000.000000  \n",
       "mean        5.527507           138.058060       0.085000  \n",
       "std         1.070672            40.708136       0.278883  \n",
       "min         3.500000            80.000000       0.000000  \n",
       "25%         4.800000           100.000000       0.000000  \n",
       "50%         5.800000           140.000000       0.000000  \n",
       "75%         6.200000           159.000000       0.000000  \n",
       "max         9.000000           300.000000       1.000000  "
      ]
     },
     "execution_count": 4,
     "metadata": {},
     "output_type": "execute_result"
    }
   ],
   "source": [
    "rawDF.describe()"
   ]
  },
  {
   "cell_type": "code",
   "execution_count": 5,
   "metadata": {},
   "outputs": [
    {
     "data": {
      "text/plain": [
       "diabetes\n",
       "0    91500\n",
       "1     8500\n",
       "Name: count, dtype: int64"
      ]
     },
     "execution_count": 5,
     "metadata": {},
     "output_type": "execute_result"
    }
   ],
   "source": [
    "rawDF['diabetes'].value_counts()"
   ]
  },
  {
   "cell_type": "markdown",
   "metadata": {},
   "source": [
    "---"
   ]
  },
  {
   "cell_type": "markdown",
   "metadata": {},
   "source": [
    "### Imputing Missing Values "
   ]
  },
  {
   "cell_type": "code",
   "execution_count": 6,
   "metadata": {},
   "outputs": [
    {
     "name": "stdout",
     "output_type": "stream",
     "text": [
      "The number of na values in the gender col is 0\n",
      "The number of na values in the age col is 0\n",
      "The number of na values in the hypertension col is 0\n",
      "The number of na values in the heart_disease col is 0\n",
      "The number of na values in the smoking_history col is 0\n",
      "The number of na values in the bmi col is 0\n",
      "The number of na values in the HbA1c_level col is 0\n",
      "The number of na values in the blood_glucose_level col is 0\n",
      "The number of na values in the diabetes col is 0\n"
     ]
    }
   ],
   "source": [
    "for col in rawDF:\n",
    "    naCount = rawDF[col].isna().sum()\n",
    "    print(f\"The number of na values in the {col} col is {naCount}\")"
   ]
  },
  {
   "cell_type": "code",
   "execution_count": 7,
   "metadata": {},
   "outputs": [
    {
     "name": "stdout",
     "output_type": "stream",
     "text": [
      "The number of No Info in the gender col is 0\n",
      "The number of No Info in the age col is 0\n",
      "The number of No Info in the hypertension col is 0\n",
      "The number of No Info in the heart_disease col is 0\n",
      "The number of No Info in the smoking_history col is 35816\n",
      "The number of No Info in the bmi col is 0\n",
      "The number of No Info in the HbA1c_level col is 0\n",
      "The number of No Info in the blood_glucose_level col is 0\n",
      "The number of No Info in the diabetes col is 0\n"
     ]
    }
   ],
   "source": [
    "for col in rawDF:\n",
    "    naCount = (rawDF[col]=='No Info').sum()\n",
    "    print(f\"The number of No Info in the {col} col is {naCount}\")"
   ]
  },
  {
   "cell_type": "code",
   "execution_count": 8,
   "metadata": {},
   "outputs": [
    {
     "data": {
      "text/plain": [
       "smoking_history\n",
       "No Info        35816\n",
       "current         9286\n",
       "ever            4004\n",
       "former          9352\n",
       "never          35095\n",
       "not current     6447\n",
       "dtype: int64"
      ]
     },
     "execution_count": 8,
     "metadata": {},
     "output_type": "execute_result"
    }
   ],
   "source": [
    "smokingGroup = rawDF.groupby('smoking_history').size()\n",
    "smokingGroup"
   ]
  },
  {
   "cell_type": "code",
   "execution_count": 9,
   "metadata": {},
   "outputs": [
    {
     "data": {
      "text/plain": [
       "gender                  object\n",
       "age                    float64\n",
       "hypertension             int64\n",
       "heart_disease            int64\n",
       "smoking_history         object\n",
       "bmi                    float64\n",
       "HbA1c_level            float64\n",
       "blood_glucose_level      int64\n",
       "diabetes                 int64\n",
       "dtype: object"
      ]
     },
     "execution_count": 9,
     "metadata": {},
     "output_type": "execute_result"
    }
   ],
   "source": [
    "rawDF.dtypes"
   ]
  },
  {
   "cell_type": "code",
   "execution_count": 10,
   "metadata": {},
   "outputs": [],
   "source": [
    "# Calculate the distribution of the known values\n",
    "distribution = rawDF[rawDF['smoking_history'] != 'No Info']['smoking_history'].value_counts(normalize=True)\n",
    "\n",
    "# Impute 'No Info' based on distribution\n",
    "no_info_indices = rawDF[rawDF['smoking_history'] == 'No Info'].index\n",
    "imputed_values = np.random.choice(distribution.index, size=len(no_info_indices), p=distribution.values)\n",
    "rawDF.loc[no_info_indices, 'smoking_history'] = imputed_values\n"
   ]
  },
  {
   "cell_type": "code",
   "execution_count": 11,
   "metadata": {},
   "outputs": [
    {
     "name": "stdout",
     "output_type": "stream",
     "text": [
      "The number of No Info in the gender col is 0\n",
      "The number of No Info in the age col is 0\n",
      "The number of No Info in the hypertension col is 0\n",
      "The number of No Info in the heart_disease col is 0\n",
      "The number of No Info in the smoking_history col is 0\n",
      "The number of No Info in the bmi col is 0\n",
      "The number of No Info in the HbA1c_level col is 0\n",
      "The number of No Info in the blood_glucose_level col is 0\n",
      "The number of No Info in the diabetes col is 0\n"
     ]
    }
   ],
   "source": [
    "for col in rawDF:\n",
    "    naCount = (rawDF[col]=='No Info').sum()\n",
    "    print(f\"The number of No Info in the {col} col is {naCount}\")"
   ]
  },
  {
   "cell_type": "code",
   "execution_count": 12,
   "metadata": {},
   "outputs": [
    {
     "data": {
      "text/plain": [
       "smoking_history\n",
       "current        14425\n",
       "ever            6321\n",
       "former         14514\n",
       "never          54681\n",
       "not current    10059\n",
       "dtype: int64"
      ]
     },
     "execution_count": 12,
     "metadata": {},
     "output_type": "execute_result"
    }
   ],
   "source": [
    "newSmokingGroup = rawDF.groupby('smoking_history').size()\n",
    "newSmokingGroup"
   ]
  },
  {
   "cell_type": "code",
   "execution_count": 13,
   "metadata": {},
   "outputs": [
    {
     "data": {
      "text/plain": [
       "gender\n",
       "Female    58552\n",
       "Male      41430\n",
       "Other        18\n",
       "dtype: int64"
      ]
     },
     "execution_count": 13,
     "metadata": {},
     "output_type": "execute_result"
    }
   ],
   "source": [
    "genderGroup = rawDF.groupby('gender').size()\n",
    "genderGroup"
   ]
  },
  {
   "cell_type": "code",
   "execution_count": 14,
   "metadata": {},
   "outputs": [],
   "source": [
    "# Assuming 'gender' is the column name and df is your DataFrame\n",
    "# Calculate the distribution of the known values\n",
    "distribution = rawDF['gender'].value_counts(normalize=True)\n",
    "\n",
    "# Assuming df['gender'] has some NaN values that need to be imputed\n",
    "missing_indices = rawDF[rawDF['gender'] == 'Other'].index\n",
    "imputed_genders = np.random.choice(distribution.index, size=len(missing_indices), p=distribution.values)\n",
    "rawDF.loc[missing_indices, 'gender'] = imputed_genders\n"
   ]
  },
  {
   "cell_type": "code",
   "execution_count": 15,
   "metadata": {},
   "outputs": [
    {
     "data": {
      "text/plain": [
       "gender\n",
       "Female    58561\n",
       "Male      41439\n",
       "dtype: int64"
      ]
     },
     "execution_count": 15,
     "metadata": {},
     "output_type": "execute_result"
    }
   ],
   "source": [
    "newGenderGroup = rawDF.groupby('gender').size()\n",
    "newGenderGroup"
   ]
  },
  {
   "cell_type": "code",
   "execution_count": 16,
   "metadata": {},
   "outputs": [
    {
     "data": {
      "text/html": [
       "<div>\n",
       "<style scoped>\n",
       "    .dataframe tbody tr th:only-of-type {\n",
       "        vertical-align: middle;\n",
       "    }\n",
       "\n",
       "    .dataframe tbody tr th {\n",
       "        vertical-align: top;\n",
       "    }\n",
       "\n",
       "    .dataframe thead th {\n",
       "        text-align: right;\n",
       "    }\n",
       "</style>\n",
       "<table border=\"1\" class=\"dataframe\">\n",
       "  <thead>\n",
       "    <tr style=\"text-align: right;\">\n",
       "      <th></th>\n",
       "      <th>gender</th>\n",
       "      <th>age</th>\n",
       "      <th>hypertension</th>\n",
       "      <th>heart_disease</th>\n",
       "      <th>smoking_history</th>\n",
       "      <th>bmi</th>\n",
       "      <th>HbA1c_level</th>\n",
       "      <th>blood_glucose_level</th>\n",
       "      <th>diabetes</th>\n",
       "    </tr>\n",
       "  </thead>\n",
       "  <tbody>\n",
       "    <tr>\n",
       "      <th>0</th>\n",
       "      <td>Female</td>\n",
       "      <td>80.0</td>\n",
       "      <td>0</td>\n",
       "      <td>1</td>\n",
       "      <td>never</td>\n",
       "      <td>25.19</td>\n",
       "      <td>6.6</td>\n",
       "      <td>140</td>\n",
       "      <td>0</td>\n",
       "    </tr>\n",
       "    <tr>\n",
       "      <th>1</th>\n",
       "      <td>Female</td>\n",
       "      <td>54.0</td>\n",
       "      <td>0</td>\n",
       "      <td>0</td>\n",
       "      <td>never</td>\n",
       "      <td>27.32</td>\n",
       "      <td>6.6</td>\n",
       "      <td>80</td>\n",
       "      <td>0</td>\n",
       "    </tr>\n",
       "    <tr>\n",
       "      <th>2</th>\n",
       "      <td>Male</td>\n",
       "      <td>28.0</td>\n",
       "      <td>0</td>\n",
       "      <td>0</td>\n",
       "      <td>never</td>\n",
       "      <td>27.32</td>\n",
       "      <td>5.7</td>\n",
       "      <td>158</td>\n",
       "      <td>0</td>\n",
       "    </tr>\n",
       "    <tr>\n",
       "      <th>3</th>\n",
       "      <td>Female</td>\n",
       "      <td>36.0</td>\n",
       "      <td>0</td>\n",
       "      <td>0</td>\n",
       "      <td>current</td>\n",
       "      <td>23.45</td>\n",
       "      <td>5.0</td>\n",
       "      <td>155</td>\n",
       "      <td>0</td>\n",
       "    </tr>\n",
       "    <tr>\n",
       "      <th>4</th>\n",
       "      <td>Male</td>\n",
       "      <td>76.0</td>\n",
       "      <td>1</td>\n",
       "      <td>1</td>\n",
       "      <td>current</td>\n",
       "      <td>20.14</td>\n",
       "      <td>4.8</td>\n",
       "      <td>155</td>\n",
       "      <td>0</td>\n",
       "    </tr>\n",
       "  </tbody>\n",
       "</table>\n",
       "</div>"
      ],
      "text/plain": [
       "   gender   age  hypertension  heart_disease smoking_history    bmi  \\\n",
       "0  Female  80.0             0              1           never  25.19   \n",
       "1  Female  54.0             0              0           never  27.32   \n",
       "2    Male  28.0             0              0           never  27.32   \n",
       "3  Female  36.0             0              0         current  23.45   \n",
       "4    Male  76.0             1              1         current  20.14   \n",
       "\n",
       "   HbA1c_level  blood_glucose_level  diabetes  \n",
       "0          6.6                  140         0  \n",
       "1          6.6                   80         0  \n",
       "2          5.7                  158         0  \n",
       "3          5.0                  155         0  \n",
       "4          4.8                  155         0  "
      ]
     },
     "execution_count": 16,
     "metadata": {},
     "output_type": "execute_result"
    }
   ],
   "source": [
    "progressDF = rawDF\n",
    "progressDF.head()"
   ]
  },
  {
   "cell_type": "code",
   "execution_count": 17,
   "metadata": {},
   "outputs": [
    {
     "data": {
      "text/html": [
       "<div>\n",
       "<style scoped>\n",
       "    .dataframe tbody tr th:only-of-type {\n",
       "        vertical-align: middle;\n",
       "    }\n",
       "\n",
       "    .dataframe tbody tr th {\n",
       "        vertical-align: top;\n",
       "    }\n",
       "\n",
       "    .dataframe thead th {\n",
       "        text-align: right;\n",
       "    }\n",
       "</style>\n",
       "<table border=\"1\" class=\"dataframe\">\n",
       "  <thead>\n",
       "    <tr style=\"text-align: right;\">\n",
       "      <th></th>\n",
       "      <th>gender</th>\n",
       "      <th>age</th>\n",
       "      <th>hypertension</th>\n",
       "      <th>heart_disease</th>\n",
       "      <th>smoking_history</th>\n",
       "      <th>bmi</th>\n",
       "      <th>HbA1c_level</th>\n",
       "      <th>blood_glucose_level</th>\n",
       "      <th>diabetes</th>\n",
       "    </tr>\n",
       "  </thead>\n",
       "  <tbody>\n",
       "    <tr>\n",
       "      <th>99995</th>\n",
       "      <td>Female</td>\n",
       "      <td>80.0</td>\n",
       "      <td>0</td>\n",
       "      <td>0</td>\n",
       "      <td>never</td>\n",
       "      <td>27.32</td>\n",
       "      <td>6.2</td>\n",
       "      <td>90</td>\n",
       "      <td>0</td>\n",
       "    </tr>\n",
       "    <tr>\n",
       "      <th>99996</th>\n",
       "      <td>Female</td>\n",
       "      <td>2.0</td>\n",
       "      <td>0</td>\n",
       "      <td>0</td>\n",
       "      <td>current</td>\n",
       "      <td>17.37</td>\n",
       "      <td>6.5</td>\n",
       "      <td>100</td>\n",
       "      <td>0</td>\n",
       "    </tr>\n",
       "    <tr>\n",
       "      <th>99997</th>\n",
       "      <td>Male</td>\n",
       "      <td>66.0</td>\n",
       "      <td>0</td>\n",
       "      <td>0</td>\n",
       "      <td>former</td>\n",
       "      <td>27.83</td>\n",
       "      <td>5.7</td>\n",
       "      <td>155</td>\n",
       "      <td>0</td>\n",
       "    </tr>\n",
       "    <tr>\n",
       "      <th>99998</th>\n",
       "      <td>Female</td>\n",
       "      <td>24.0</td>\n",
       "      <td>0</td>\n",
       "      <td>0</td>\n",
       "      <td>never</td>\n",
       "      <td>35.42</td>\n",
       "      <td>4.0</td>\n",
       "      <td>100</td>\n",
       "      <td>0</td>\n",
       "    </tr>\n",
       "    <tr>\n",
       "      <th>99999</th>\n",
       "      <td>Female</td>\n",
       "      <td>57.0</td>\n",
       "      <td>0</td>\n",
       "      <td>0</td>\n",
       "      <td>current</td>\n",
       "      <td>22.43</td>\n",
       "      <td>6.6</td>\n",
       "      <td>90</td>\n",
       "      <td>0</td>\n",
       "    </tr>\n",
       "  </tbody>\n",
       "</table>\n",
       "</div>"
      ],
      "text/plain": [
       "       gender   age  hypertension  heart_disease smoking_history    bmi  \\\n",
       "99995  Female  80.0             0              0           never  27.32   \n",
       "99996  Female   2.0             0              0         current  17.37   \n",
       "99997    Male  66.0             0              0          former  27.83   \n",
       "99998  Female  24.0             0              0           never  35.42   \n",
       "99999  Female  57.0             0              0         current  22.43   \n",
       "\n",
       "       HbA1c_level  blood_glucose_level  diabetes  \n",
       "99995          6.2                   90         0  \n",
       "99996          6.5                  100         0  \n",
       "99997          5.7                  155         0  \n",
       "99998          4.0                  100         0  \n",
       "99999          6.6                   90         0  "
      ]
     },
     "execution_count": 17,
     "metadata": {},
     "output_type": "execute_result"
    }
   ],
   "source": [
    "progressDF.tail()"
   ]
  },
  {
   "cell_type": "markdown",
   "metadata": {},
   "source": [
    "---"
   ]
  },
  {
   "cell_type": "markdown",
   "metadata": {},
   "source": [
    "### Categorical Visualizations"
   ]
  },
  {
   "cell_type": "code",
   "execution_count": 18,
   "metadata": {},
   "outputs": [],
   "source": [
    "def makeBarValueCount(aDF, colName):\n",
    "    aDF[colName].value_counts().plot(kind='bar', figsize=(7, 6))\n",
    "    plt.xlabel(colName, labelpad=14)\n",
    "    plt.ylabel(\"Count\", labelpad=14)\n",
    "    plt.title(f\"The Count in the {colName} Column\")"
   ]
  },
  {
   "cell_type": "code",
   "execution_count": 19,
   "metadata": {},
   "outputs": [
    {
     "data": {
      "image/png": "[encoded data removed]",
      "text/plain": [
       "<Figure size 700x600 with 1 Axes>"
      ]
     },
     "metadata": {},
     "output_type": "display_data"
    }
   ],
   "source": [
    "makeBarValueCount(progressDF, 'smoking_history')"
   ]
  },
  {
   "cell_type": "code",
   "execution_count": 20,
   "metadata": {},
   "outputs": [
    {
     "data": {
      "image/png": "[encoded data removed]",
      "text/plain": [
       "<Figure size 700x600 with 1 Axes>"
      ]
     },
     "metadata": {},
     "output_type": "display_data"
    }
   ],
   "source": [
    "makeBarValueCount(progressDF, 'gender')"
   ]
  },
  {
   "cell_type": "code",
   "execution_count": 21,
   "metadata": {},
   "outputs": [
    {
     "data": {
      "image/png": "[encoded data removed]",
      "text/plain": [
       "<Figure size 700x600 with 1 Axes>"
      ]
     },
     "metadata": {},
     "output_type": "display_data"
    }
   ],
   "source": [
    "makeBarValueCount(progressDF, 'hypertension')"
   ]
  },
  {
   "cell_type": "code",
   "execution_count": 22,
   "metadata": {},
   "outputs": [
    {
     "data": {
      "image/png": "[encoded data removed]",
      "text/plain": [
       "<Figure size 700x600 with 1 Axes>"
      ]
     },
     "metadata": {},
     "output_type": "display_data"
    }
   ],
   "source": [
    "makeBarValueCount(progressDF, 'heart_disease')"
   ]
  },
  {
   "cell_type": "code",
   "execution_count": 23,
   "metadata": {},
   "outputs": [
    {
     "data": {
      "image/png": "[encoded data removed]",
      "text/plain": [
       "<Figure size 700x600 with 1 Axes>"
      ]
     },
     "metadata": {},
     "output_type": "display_data"
    }
   ],
   "source": [
    "makeBarValueCount(progressDF,'diabetes')"
   ]
  },
  {
   "cell_type": "markdown",
   "metadata": {},
   "source": [
    "---"
   ]
  },
  {
   "cell_type": "markdown",
   "metadata": {},
   "source": [
    "### Numerical Visualizations"
   ]
  },
  {
   "cell_type": "code",
   "execution_count": 24,
   "metadata": {},
   "outputs": [],
   "source": [
    "def makeHistValueCount(aDF, colName):\n",
    "    aDF[colName].plot(kind='hist', figsize=(7, 6))\n",
    "    plt.xlabel(colName, labelpad=14)\n",
    "    plt.ylabel(\"Count\", labelpad=14)\n",
    "    plt.title(f\"The Count in the {colName} Column\")\n"
   ]
  },
  {
   "cell_type": "code",
   "execution_count": 25,
   "metadata": {},
   "outputs": [
    {
     "data": {
      "image/png": "[encoded data removed]",
      "text/plain": [
       "<Figure size 700x600 with 1 Axes>"
      ]
     },
     "metadata": {},
     "output_type": "display_data"
    }
   ],
   "source": [
    "makeHistValueCount(progressDF, 'age')"
   ]
  },
  {
   "cell_type": "code",
   "execution_count": 26,
   "metadata": {},
   "outputs": [
    {
     "data": {
      "image/png": "[encoded data removed]",
      "text/plain": [
       "<Figure size 700x600 with 1 Axes>"
      ]
     },
     "metadata": {},
     "output_type": "display_data"
    }
   ],
   "source": [
    "makeHistValueCount(progressDF, 'bmi')"
   ]
  },
  {
   "cell_type": "code",
   "execution_count": 27,
   "metadata": {},
   "outputs": [
    {
     "data": {
      "image/png": "[encoded data removed]",
      "text/plain": [
       "<Figure size 700x600 with 1 Axes>"
      ]
     },
     "metadata": {},
     "output_type": "display_data"
    }
   ],
   "source": [
    "makeHistValueCount(progressDF, 'HbA1c_level')"
   ]
  },
  {
   "cell_type": "code",
   "execution_count": 28,
   "metadata": {},
   "outputs": [
    {
     "data": {
      "image/png": "[encoded data removed]",
      "text/plain": [
       "<Figure size 700x600 with 1 Axes>"
      ]
     },
     "metadata": {},
     "output_type": "display_data"
    }
   ],
   "source": [
    "makeHistValueCount(progressDF, 'blood_glucose_level')"
   ]
  },
  {
   "cell_type": "markdown",
   "metadata": {},
   "source": [
    "---"
   ]
  },
  {
   "cell_type": "markdown",
   "metadata": {},
   "source": [
    "### Encoding Categorical Data"
   ]
  },
  {
   "cell_type": "code",
   "execution_count": 29,
   "metadata": {},
   "outputs": [
    {
     "data": {
      "text/html": [
       "<div>\n",
       "<style scoped>\n",
       "    .dataframe tbody tr th:only-of-type {\n",
       "        vertical-align: middle;\n",
       "    }\n",
       "\n",
       "    .dataframe tbody tr th {\n",
       "        vertical-align: top;\n",
       "    }\n",
       "\n",
       "    .dataframe thead th {\n",
       "        text-align: right;\n",
       "    }\n",
       "</style>\n",
       "<table border=\"1\" class=\"dataframe\">\n",
       "  <thead>\n",
       "    <tr style=\"text-align: right;\">\n",
       "      <th></th>\n",
       "      <th>gender</th>\n",
       "      <th>age</th>\n",
       "      <th>hypertension</th>\n",
       "      <th>heart_disease</th>\n",
       "      <th>smoking_history</th>\n",
       "      <th>bmi</th>\n",
       "      <th>HbA1c_level</th>\n",
       "      <th>blood_glucose_level</th>\n",
       "      <th>diabetes</th>\n",
       "    </tr>\n",
       "  </thead>\n",
       "  <tbody>\n",
       "    <tr>\n",
       "      <th>0</th>\n",
       "      <td>0</td>\n",
       "      <td>80.0</td>\n",
       "      <td>0</td>\n",
       "      <td>1</td>\n",
       "      <td>never</td>\n",
       "      <td>25.19</td>\n",
       "      <td>6.6</td>\n",
       "      <td>140</td>\n",
       "      <td>0</td>\n",
       "    </tr>\n",
       "    <tr>\n",
       "      <th>1</th>\n",
       "      <td>0</td>\n",
       "      <td>54.0</td>\n",
       "      <td>0</td>\n",
       "      <td>0</td>\n",
       "      <td>never</td>\n",
       "      <td>27.32</td>\n",
       "      <td>6.6</td>\n",
       "      <td>80</td>\n",
       "      <td>0</td>\n",
       "    </tr>\n",
       "    <tr>\n",
       "      <th>2</th>\n",
       "      <td>1</td>\n",
       "      <td>28.0</td>\n",
       "      <td>0</td>\n",
       "      <td>0</td>\n",
       "      <td>never</td>\n",
       "      <td>27.32</td>\n",
       "      <td>5.7</td>\n",
       "      <td>158</td>\n",
       "      <td>0</td>\n",
       "    </tr>\n",
       "    <tr>\n",
       "      <th>3</th>\n",
       "      <td>0</td>\n",
       "      <td>36.0</td>\n",
       "      <td>0</td>\n",
       "      <td>0</td>\n",
       "      <td>current</td>\n",
       "      <td>23.45</td>\n",
       "      <td>5.0</td>\n",
       "      <td>155</td>\n",
       "      <td>0</td>\n",
       "    </tr>\n",
       "    <tr>\n",
       "      <th>4</th>\n",
       "      <td>1</td>\n",
       "      <td>76.0</td>\n",
       "      <td>1</td>\n",
       "      <td>1</td>\n",
       "      <td>current</td>\n",
       "      <td>20.14</td>\n",
       "      <td>4.8</td>\n",
       "      <td>155</td>\n",
       "      <td>0</td>\n",
       "    </tr>\n",
       "  </tbody>\n",
       "</table>\n",
       "</div>"
      ],
      "text/plain": [
       "   gender   age  hypertension  heart_disease smoking_history    bmi  \\\n",
       "0       0  80.0             0              1           never  25.19   \n",
       "1       0  54.0             0              0           never  27.32   \n",
       "2       1  28.0             0              0           never  27.32   \n",
       "3       0  36.0             0              0         current  23.45   \n",
       "4       1  76.0             1              1         current  20.14   \n",
       "\n",
       "   HbA1c_level  blood_glucose_level  diabetes  \n",
       "0          6.6                  140         0  \n",
       "1          6.6                   80         0  \n",
       "2          5.7                  158         0  \n",
       "3          5.0                  155         0  \n",
       "4          4.8                  155         0  "
      ]
     },
     "execution_count": 29,
     "metadata": {},
     "output_type": "execute_result"
    }
   ],
   "source": [
    "# Encoding Categorical data\n",
    "def getLabelList(n):\n",
    "    labelList =[]\n",
    "    for i in range(n):\n",
    "        labelList.append(i)\n",
    "    return labelList\n",
    "\n",
    "genderList = [\"Female\",\"Male\"]\n",
    "\n",
    "imputedDF = progressDF\n",
    "imputedDF[\"gender\"] = imputedDF[\"gender\"].replace(genderList, getLabelList(len(genderList)))\n",
    "\n",
    "imputedDF.head()"
   ]
  },
  {
   "cell_type": "code",
   "execution_count": 30,
   "metadata": {},
   "outputs": [
    {
     "name": "stderr",
     "output_type": "stream",
     "text": [
      "c:\\Users\\brayj\\anaconda3\\Lib\\site-packages\\sklearn\\preprocessing\\_encoders.py:972: FutureWarning: `sparse` was renamed to `sparse_output` in version 1.2 and will be removed in 1.4. `sparse_output` is ignored unless you leave `sparse` to its default value.\n",
      "  warnings.warn(\n"
     ]
    },
    {
     "data": {
      "text/html": [
       "<div>\n",
       "<style scoped>\n",
       "    .dataframe tbody tr th:only-of-type {\n",
       "        vertical-align: middle;\n",
       "    }\n",
       "\n",
       "    .dataframe tbody tr th {\n",
       "        vertical-align: top;\n",
       "    }\n",
       "\n",
       "    .dataframe thead th {\n",
       "        text-align: right;\n",
       "    }\n",
       "</style>\n",
       "<table border=\"1\" class=\"dataframe\">\n",
       "  <thead>\n",
       "    <tr style=\"text-align: right;\">\n",
       "      <th></th>\n",
       "      <th>gender</th>\n",
       "      <th>age</th>\n",
       "      <th>hypertension</th>\n",
       "      <th>heart_disease</th>\n",
       "      <th>bmi</th>\n",
       "      <th>HbA1c_level</th>\n",
       "      <th>blood_glucose_level</th>\n",
       "      <th>diabetes</th>\n",
       "      <th>current</th>\n",
       "      <th>ever</th>\n",
       "      <th>former</th>\n",
       "      <th>never</th>\n",
       "      <th>not current</th>\n",
       "    </tr>\n",
       "  </thead>\n",
       "  <tbody>\n",
       "    <tr>\n",
       "      <th>0</th>\n",
       "      <td>0</td>\n",
       "      <td>80.0</td>\n",
       "      <td>0</td>\n",
       "      <td>1</td>\n",
       "      <td>25.19</td>\n",
       "      <td>6.6</td>\n",
       "      <td>140</td>\n",
       "      <td>0</td>\n",
       "      <td>0.0</td>\n",
       "      <td>0.0</td>\n",
       "      <td>0.0</td>\n",
       "      <td>1.0</td>\n",
       "      <td>0.0</td>\n",
       "    </tr>\n",
       "    <tr>\n",
       "      <th>1</th>\n",
       "      <td>0</td>\n",
       "      <td>54.0</td>\n",
       "      <td>0</td>\n",
       "      <td>0</td>\n",
       "      <td>27.32</td>\n",
       "      <td>6.6</td>\n",
       "      <td>80</td>\n",
       "      <td>0</td>\n",
       "      <td>0.0</td>\n",
       "      <td>0.0</td>\n",
       "      <td>0.0</td>\n",
       "      <td>1.0</td>\n",
       "      <td>0.0</td>\n",
       "    </tr>\n",
       "    <tr>\n",
       "      <th>2</th>\n",
       "      <td>1</td>\n",
       "      <td>28.0</td>\n",
       "      <td>0</td>\n",
       "      <td>0</td>\n",
       "      <td>27.32</td>\n",
       "      <td>5.7</td>\n",
       "      <td>158</td>\n",
       "      <td>0</td>\n",
       "      <td>0.0</td>\n",
       "      <td>0.0</td>\n",
       "      <td>0.0</td>\n",
       "      <td>1.0</td>\n",
       "      <td>0.0</td>\n",
       "    </tr>\n",
       "    <tr>\n",
       "      <th>3</th>\n",
       "      <td>0</td>\n",
       "      <td>36.0</td>\n",
       "      <td>0</td>\n",
       "      <td>0</td>\n",
       "      <td>23.45</td>\n",
       "      <td>5.0</td>\n",
       "      <td>155</td>\n",
       "      <td>0</td>\n",
       "      <td>1.0</td>\n",
       "      <td>0.0</td>\n",
       "      <td>0.0</td>\n",
       "      <td>0.0</td>\n",
       "      <td>0.0</td>\n",
       "    </tr>\n",
       "    <tr>\n",
       "      <th>4</th>\n",
       "      <td>1</td>\n",
       "      <td>76.0</td>\n",
       "      <td>1</td>\n",
       "      <td>1</td>\n",
       "      <td>20.14</td>\n",
       "      <td>4.8</td>\n",
       "      <td>155</td>\n",
       "      <td>0</td>\n",
       "      <td>1.0</td>\n",
       "      <td>0.0</td>\n",
       "      <td>0.0</td>\n",
       "      <td>0.0</td>\n",
       "      <td>0.0</td>\n",
       "    </tr>\n",
       "  </tbody>\n",
       "</table>\n",
       "</div>"
      ],
      "text/plain": [
       "   gender   age  hypertension  heart_disease    bmi  HbA1c_level  \\\n",
       "0       0  80.0             0              1  25.19          6.6   \n",
       "1       0  54.0             0              0  27.32          6.6   \n",
       "2       1  28.0             0              0  27.32          5.7   \n",
       "3       0  36.0             0              0  23.45          5.0   \n",
       "4       1  76.0             1              1  20.14          4.8   \n",
       "\n",
       "   blood_glucose_level  diabetes  current  ever  former  never  not current  \n",
       "0                  140         0      0.0   0.0     0.0    1.0          0.0  \n",
       "1                   80         0      0.0   0.0     0.0    1.0          0.0  \n",
       "2                  158         0      0.0   0.0     0.0    1.0          0.0  \n",
       "3                  155         0      1.0   0.0     0.0    0.0          0.0  \n",
       "4                  155         0      1.0   0.0     0.0    0.0          0.0  "
      ]
     },
     "execution_count": 30,
     "metadata": {},
     "output_type": "execute_result"
    }
   ],
   "source": [
    "\n",
    "#creating instance of one-hot-encoder\n",
    "#sparse = False puts it in format where it can be dataframe later\n",
    "encoder = OneHotEncoder(sparse=False)\n",
    "\n",
    "#perform one-hot encoding on 'Country' column \n",
    "encodedData = encoder.fit_transform(imputedDF[['smoking_history']])\n",
    "\n",
    "encoder.categories_\n",
    "\n",
    "oneHotDF = pd.DataFrame(encodedData, columns=encoder.categories_)\n",
    "\n",
    "oneHotDF.columns = oneHotDF.columns.get_level_values(0)\n",
    "cleanedDF = pd.concat([imputedDF, oneHotDF], axis=1).drop(columns = \"smoking_history\")\n",
    "\n",
    "cleanedDF.head()"
   ]
  },
  {
   "cell_type": "markdown",
   "metadata": {},
   "source": [
    "---"
   ]
  },
  {
   "cell_type": "markdown",
   "metadata": {},
   "source": [
    "### Box Plots for Outlier Visualization"
   ]
  },
  {
   "cell_type": "code",
   "execution_count": 31,
   "metadata": {},
   "outputs": [],
   "source": [
    "# Function to create box plots for each column\n",
    "def makeBoxPlot(aDF, col):  \n",
    "    sns.boxplot(aDF[col])\n",
    "    plt.title(f\"Box Plot of {col}\")"
   ]
  },
  {
   "cell_type": "code",
   "execution_count": 32,
   "metadata": {},
   "outputs": [
    {
     "data": {
      "image/png": "[encoded data removed]",
      "text/plain": [
       "<Figure size 640x480 with 1 Axes>"
      ]
     },
     "metadata": {},
     "output_type": "display_data"
    }
   ],
   "source": [
    "makeBoxPlot(cleanedDF,'age')"
   ]
  },
  {
   "cell_type": "code",
   "execution_count": 33,
   "metadata": {},
   "outputs": [
    {
     "data": {
      "image/png": "[encoded data removed]",
      "text/plain": [
       "<Figure size 640x480 with 1 Axes>"
      ]
     },
     "metadata": {},
     "output_type": "display_data"
    }
   ],
   "source": [
    "makeBoxPlot(cleanedDF, 'bmi')"
   ]
  },
  {
   "cell_type": "code",
   "execution_count": 34,
   "metadata": {},
   "outputs": [
    {
     "data": {
      "image/png": "[encoded data removed]",
      "text/plain": [
       "<Figure size 640x480 with 1 Axes>"
      ]
     },
     "metadata": {},
     "output_type": "display_data"
    }
   ],
   "source": [
    "makeBoxPlot(cleanedDF, 'HbA1c_level')"
   ]
  },
  {
   "cell_type": "code",
   "execution_count": 35,
   "metadata": {},
   "outputs": [
    {
     "data": {
      "image/png": "[encoded data removed]",
      "text/plain": [
       "<Figure size 640x480 with 1 Axes>"
      ]
     },
     "metadata": {},
     "output_type": "display_data"
    }
   ],
   "source": [
    "makeBoxPlot(cleanedDF, 'blood_glucose_level')"
   ]
  },
  {
   "cell_type": "markdown",
   "metadata": {},
   "source": [
    "---"
   ]
  },
  {
   "cell_type": "markdown",
   "metadata": {},
   "source": [
    "### Correlation Heat Map"
   ]
  },
  {
   "cell_type": "code",
   "execution_count": 36,
   "metadata": {},
   "outputs": [
    {
     "data": {
      "image/png": "[encoded data removed]",
      "text/plain": [
       "<Figure size 2400x1600 with 2 Axes>"
      ]
     },
     "metadata": {},
     "output_type": "display_data"
    }
   ],
   "source": [
    "plt.figure(figsize=(24, 16))\n",
    "# define the mask to set the values in the upper triangle to True\n",
    "mask = np.triu(np.ones_like(cleanedDF.corr(), dtype=bool))\n",
    "heatmap = sns.heatmap(cleanedDF.corr(), mask=mask, vmin=-1, vmax=1, annot=True, cmap='BrBG')\n",
    "heatmap.set_title('Triangle Correlation Heatmap', fontdict={'fontsize':18}, pad=16)\n",
    "plt.savefig('heatmap.png', dpi=300, bbox_inches='tight')"
   ]
  },
  {
   "cell_type": "markdown",
   "metadata": {},
   "source": [
    "---"
   ]
  },
  {
   "cell_type": "markdown",
   "metadata": {},
   "source": [
    "## Splitting into Training and Testing Sets"
   ]
  },
  {
   "cell_type": "code",
   "execution_count": 37,
   "metadata": {},
   "outputs": [
    {
     "name": "stdout",
     "output_type": "stream",
     "text": [
      "Index(['gender', 'age', 'hypertension', 'heart_disease', 'bmi', 'HbA1c_level',\n",
      "       'blood_glucose_level', 'current', 'ever', 'former', 'never',\n",
      "       'not current'],\n",
      "      dtype='object')\n"
     ]
    },
    {
     "data": {
      "text/html": [
       "<div>\n",
       "<style scoped>\n",
       "    .dataframe tbody tr th:only-of-type {\n",
       "        vertical-align: middle;\n",
       "    }\n",
       "\n",
       "    .dataframe tbody tr th {\n",
       "        vertical-align: top;\n",
       "    }\n",
       "\n",
       "    .dataframe thead th {\n",
       "        text-align: right;\n",
       "    }\n",
       "</style>\n",
       "<table border=\"1\" class=\"dataframe\">\n",
       "  <thead>\n",
       "    <tr style=\"text-align: right;\">\n",
       "      <th></th>\n",
       "      <th>gender</th>\n",
       "      <th>age</th>\n",
       "      <th>hypertension</th>\n",
       "      <th>heart_disease</th>\n",
       "      <th>bmi</th>\n",
       "      <th>HbA1c_level</th>\n",
       "      <th>blood_glucose_level</th>\n",
       "      <th>current</th>\n",
       "      <th>ever</th>\n",
       "      <th>former</th>\n",
       "      <th>never</th>\n",
       "      <th>not current</th>\n",
       "    </tr>\n",
       "  </thead>\n",
       "  <tbody>\n",
       "    <tr>\n",
       "      <th>0</th>\n",
       "      <td>0</td>\n",
       "      <td>80.0</td>\n",
       "      <td>0</td>\n",
       "      <td>1</td>\n",
       "      <td>25.19</td>\n",
       "      <td>6.6</td>\n",
       "      <td>140</td>\n",
       "      <td>0.0</td>\n",
       "      <td>0.0</td>\n",
       "      <td>0.0</td>\n",
       "      <td>1.0</td>\n",
       "      <td>0.0</td>\n",
       "    </tr>\n",
       "    <tr>\n",
       "      <th>1</th>\n",
       "      <td>0</td>\n",
       "      <td>54.0</td>\n",
       "      <td>0</td>\n",
       "      <td>0</td>\n",
       "      <td>27.32</td>\n",
       "      <td>6.6</td>\n",
       "      <td>80</td>\n",
       "      <td>0.0</td>\n",
       "      <td>0.0</td>\n",
       "      <td>0.0</td>\n",
       "      <td>1.0</td>\n",
       "      <td>0.0</td>\n",
       "    </tr>\n",
       "    <tr>\n",
       "      <th>2</th>\n",
       "      <td>1</td>\n",
       "      <td>28.0</td>\n",
       "      <td>0</td>\n",
       "      <td>0</td>\n",
       "      <td>27.32</td>\n",
       "      <td>5.7</td>\n",
       "      <td>158</td>\n",
       "      <td>0.0</td>\n",
       "      <td>0.0</td>\n",
       "      <td>0.0</td>\n",
       "      <td>1.0</td>\n",
       "      <td>0.0</td>\n",
       "    </tr>\n",
       "    <tr>\n",
       "      <th>3</th>\n",
       "      <td>0</td>\n",
       "      <td>36.0</td>\n",
       "      <td>0</td>\n",
       "      <td>0</td>\n",
       "      <td>23.45</td>\n",
       "      <td>5.0</td>\n",
       "      <td>155</td>\n",
       "      <td>1.0</td>\n",
       "      <td>0.0</td>\n",
       "      <td>0.0</td>\n",
       "      <td>0.0</td>\n",
       "      <td>0.0</td>\n",
       "    </tr>\n",
       "    <tr>\n",
       "      <th>4</th>\n",
       "      <td>1</td>\n",
       "      <td>76.0</td>\n",
       "      <td>1</td>\n",
       "      <td>1</td>\n",
       "      <td>20.14</td>\n",
       "      <td>4.8</td>\n",
       "      <td>155</td>\n",
       "      <td>1.0</td>\n",
       "      <td>0.0</td>\n",
       "      <td>0.0</td>\n",
       "      <td>0.0</td>\n",
       "      <td>0.0</td>\n",
       "    </tr>\n",
       "  </tbody>\n",
       "</table>\n",
       "</div>"
      ],
      "text/plain": [
       "   gender   age  hypertension  heart_disease    bmi  HbA1c_level  \\\n",
       "0       0  80.0             0              1  25.19          6.6   \n",
       "1       0  54.0             0              0  27.32          6.6   \n",
       "2       1  28.0             0              0  27.32          5.7   \n",
       "3       0  36.0             0              0  23.45          5.0   \n",
       "4       1  76.0             1              1  20.14          4.8   \n",
       "\n",
       "   blood_glucose_level  current  ever  former  never  not current  \n",
       "0                  140      0.0   0.0     0.0    1.0          0.0  \n",
       "1                   80      0.0   0.0     0.0    1.0          0.0  \n",
       "2                  158      0.0   0.0     0.0    1.0          0.0  \n",
       "3                  155      1.0   0.0     0.0    0.0          0.0  \n",
       "4                  155      1.0   0.0     0.0    0.0          0.0  "
      ]
     },
     "execution_count": 37,
     "metadata": {},
     "output_type": "execute_result"
    }
   ],
   "source": [
    "yDF = cleanedDF[\"diabetes\"]\n",
    "xDF = cleanedDF.drop(columns=[\"diabetes\"], axis=1)\n",
    "\n",
    "print(xDF.columns)\n",
    "xDF.head()"
   ]
  },
  {
   "cell_type": "code",
   "execution_count": 38,
   "metadata": {},
   "outputs": [
    {
     "data": {
      "text/html": [
       "<div>\n",
       "<style scoped>\n",
       "    .dataframe tbody tr th:only-of-type {\n",
       "        vertical-align: middle;\n",
       "    }\n",
       "\n",
       "    .dataframe tbody tr th {\n",
       "        vertical-align: top;\n",
       "    }\n",
       "\n",
       "    .dataframe thead th {\n",
       "        text-align: right;\n",
       "    }\n",
       "</style>\n",
       "<table border=\"1\" class=\"dataframe\">\n",
       "  <thead>\n",
       "    <tr style=\"text-align: right;\">\n",
       "      <th></th>\n",
       "      <th>diabetes</th>\n",
       "    </tr>\n",
       "  </thead>\n",
       "  <tbody>\n",
       "    <tr>\n",
       "      <th>0</th>\n",
       "      <td>0</td>\n",
       "    </tr>\n",
       "    <tr>\n",
       "      <th>1</th>\n",
       "      <td>0</td>\n",
       "    </tr>\n",
       "    <tr>\n",
       "      <th>2</th>\n",
       "      <td>0</td>\n",
       "    </tr>\n",
       "    <tr>\n",
       "      <th>3</th>\n",
       "      <td>0</td>\n",
       "    </tr>\n",
       "    <tr>\n",
       "      <th>4</th>\n",
       "      <td>0</td>\n",
       "    </tr>\n",
       "    <tr>\n",
       "      <th>...</th>\n",
       "      <td>...</td>\n",
       "    </tr>\n",
       "    <tr>\n",
       "      <th>99995</th>\n",
       "      <td>0</td>\n",
       "    </tr>\n",
       "    <tr>\n",
       "      <th>99996</th>\n",
       "      <td>0</td>\n",
       "    </tr>\n",
       "    <tr>\n",
       "      <th>99997</th>\n",
       "      <td>0</td>\n",
       "    </tr>\n",
       "    <tr>\n",
       "      <th>99998</th>\n",
       "      <td>0</td>\n",
       "    </tr>\n",
       "    <tr>\n",
       "      <th>99999</th>\n",
       "      <td>0</td>\n",
       "    </tr>\n",
       "  </tbody>\n",
       "</table>\n",
       "<p>100000 rows × 1 columns</p>\n",
       "</div>"
      ],
      "text/plain": [
       "       diabetes\n",
       "0             0\n",
       "1             0\n",
       "2             0\n",
       "3             0\n",
       "4             0\n",
       "...         ...\n",
       "99995         0\n",
       "99996         0\n",
       "99997         0\n",
       "99998         0\n",
       "99999         0\n",
       "\n",
       "[100000 rows x 1 columns]"
      ]
     },
     "execution_count": 38,
     "metadata": {},
     "output_type": "execute_result"
    }
   ],
   "source": [
    "pd.DataFrame(yDF)"
   ]
  },
  {
   "cell_type": "code",
   "execution_count": 39,
   "metadata": {},
   "outputs": [],
   "source": [
    "xTrain, xTest, yTrain, yTest = train_test_split(\n",
    "    xDF, yDF, \n",
    "    test_size=0.05,\n",
    "    shuffle = True,\n",
    "    stratify = yDF)"
   ]
  },
  {
   "cell_type": "markdown",
   "metadata": {},
   "source": [
    "### Scaling the Training Set"
   ]
  },
  {
   "cell_type": "code",
   "execution_count": 40,
   "metadata": {},
   "outputs": [],
   "source": [
    "xScaler = StandardScaler()\n",
    "xColNames = xTrain.columns.values.tolist()\n",
    "# train the scaler and apply it to the training set\n",
    "xTrainScaled = xScaler.fit_transform(xTrain[xColNames])\n"
   ]
  },
  {
   "cell_type": "code",
   "execution_count": 41,
   "metadata": {},
   "outputs": [],
   "source": [
    "\n",
    "# Convert the sampled subset back to a DataFrame\n",
    "sampled_xTrain = pd.DataFrame(xTrain).sample(n=10000, random_state=42)\n",
    "\n",
    "# Scale the features of the sampled subset\n",
    "sampled_xTrain_scaled = xScaler.fit_transform(sampled_xTrain)\n",
    "\n",
    "# Get the corresponding target values\n",
    "sampled_yTrain = yTrain.loc[sampled_xTrain.index]\n"
   ]
  },
  {
   "cell_type": "markdown",
   "metadata": {},
   "source": [
    "---"
   ]
  },
  {
   "cell_type": "markdown",
   "metadata": {},
   "source": [
    "## Hyper Parameter Optimization"
   ]
  },
  {
   "cell_type": "markdown",
   "metadata": {},
   "source": [
    "### Logistic Regression"
   ]
  },
  {
   "cell_type": "code",
   "execution_count": 42,
   "metadata": {},
   "outputs": [],
   "source": [
    "# # Logistic Regression Hyper Param Optimization\n",
    "\n",
    "# parameters = [{'penalty':['l1','l2'], \n",
    "#               'C':[1, 10, 100, 1000]}]\n",
    "# gridSearch = GridSearchCV(estimator = LogisticRegression(),  \n",
    "#                            param_grid = parameters,\n",
    "#                            scoring = 'recall',\n",
    "#                            cv = 5,\n",
    "#                            verbose=0)\n",
    "\n",
    "\n",
    "# gridSearch.fit(sampled_xTrain_scaled, sampled_yTrain) \n",
    "\n",
    "# logisticParams = gridSearch.best_params_\n",
    "\n",
    "# logisticParams"
   ]
  },
  {
   "cell_type": "code",
   "execution_count": 43,
   "metadata": {},
   "outputs": [],
   "source": [
    "logisticParams = {'C': 1, 'penalty': 'l2'}"
   ]
  },
  {
   "cell_type": "markdown",
   "metadata": {},
   "source": [
    "### SVC"
   ]
  },
  {
   "cell_type": "code",
   "execution_count": 44,
   "metadata": {},
   "outputs": [],
   "source": [
    "# # SVC Hyper Param Optimization\n",
    "# parameters = {'C':[1,10,100,1000],\n",
    "#               'gamma':[1,0.1,0.001,0.0001], \n",
    "#               'kernel':['linear','rbf']}\n",
    "# gridSearch = GridSearchCV(estimator = SVC(),  \n",
    "#                            param_grid = parameters,\n",
    "#                            scoring = 'recall',\n",
    "#                            cv = 5,\n",
    "#                            verbose=0)\n",
    "\n",
    "\n",
    "# gridSearch.fit(sampled_xTrain_scaled, sampled_yTrain) \n",
    "\n",
    "# svmParams = gridSearch.best_params_\n",
    "\n",
    "# svmParams"
   ]
  },
  {
   "cell_type": "code",
   "execution_count": 45,
   "metadata": {},
   "outputs": [],
   "source": [
    "svmParams = {'C': 1000, 'gamma': 0.1, 'kernel': 'rbf'}"
   ]
  },
  {
   "cell_type": "markdown",
   "metadata": {},
   "source": [
    "### Neural Network"
   ]
  },
  {
   "cell_type": "code",
   "execution_count": 46,
   "metadata": {},
   "outputs": [],
   "source": [
    "# # Neural Network Hyper Param Optimization\n",
    "# parameters = parameter_space = {\n",
    "#     'max_iter': [1000],\n",
    "#     'hidden_layer_sizes': [(50,50), (50,50,50), (100)],\n",
    "#     'activation': ['relu'],\n",
    "#     'solver': ['adam'],\n",
    "#     'alpha': [0.0001, 0.05],\n",
    "#     'learning_rate': ['constant','adaptive'],\n",
    "# }\n",
    "# gridSearch = GridSearchCV(estimator = MLPClassifier(),  \n",
    "#                            param_grid = parameters,\n",
    "#                            scoring = 'recall',\n",
    "#                            cv = 5,\n",
    "#                            verbose=0)\n",
    "\n",
    "\n",
    "# gridSearch.fit(sampled_xTrain_scaled, sampled_yTrain) \n",
    "\n",
    "# mlpParams = gridSearch.best_params_\n",
    "\n",
    "# mlpParams"
   ]
  },
  {
   "cell_type": "code",
   "execution_count": 47,
   "metadata": {},
   "outputs": [],
   "source": [
    "mlpParams = {'activation': 'relu',\n",
    "            'alpha': 0.0001,\n",
    "            'hidden_layer_sizes': (50, 50, 50),\n",
    "            'learning_rate': 'adaptive',\n",
    "            'max_iter': 1000,\n",
    "            'solver': 'adam'}"
   ]
  },
  {
   "cell_type": "markdown",
   "metadata": {},
   "source": [
    "### Decision Tree"
   ]
  },
  {
   "cell_type": "code",
   "execution_count": 48,
   "metadata": {},
   "outputs": [],
   "source": [
    "# # Decision Tree Hyper Param Optimization\n",
    "# parameters = {'criterion': ['gini', 'entropy'],\n",
    "#               'splitter': ['best', 'random'],\n",
    "#               'max_depth': [None, 10, 20, 30, 40, 50],\n",
    "#               'min_samples_split': [2, 5, 10],\n",
    "#               'min_samples_leaf': [1, 2, 4],\n",
    "#               'max_features': [None, 'sqrt', 'log2']}\n",
    "\n",
    "              \n",
    "# gridSearch = GridSearchCV(estimator = DecisionTreeClassifier(),  \n",
    "#                            param_grid = parameters,\n",
    "#                            scoring = 'recall',\n",
    "#                            cv = 5,\n",
    "#                            verbose=0)\n",
    "\n",
    "\n",
    "# gridSearch.fit(sampled_xTrain_scaled, sampled_yTrain) \n",
    "\n",
    "# treeParams = gridSearch.best_params_\n",
    "\n",
    "# treeParams"
   ]
  },
  {
   "cell_type": "code",
   "execution_count": 49,
   "metadata": {},
   "outputs": [],
   "source": [
    "treeParams = {'criterion': 'entropy',\n",
    "                'max_depth': 30,\n",
    "                'max_features': None,\n",
    "                'min_samples_leaf': 1,\n",
    "                'min_samples_split': 2,\n",
    "                'splitter': 'best'}"
   ]
  },
  {
   "cell_type": "markdown",
   "metadata": {},
   "source": [
    "### Random Forest"
   ]
  },
  {
   "cell_type": "code",
   "execution_count": 50,
   "metadata": {},
   "outputs": [],
   "source": [
    "# # Random Forest Hyper Param Optimization\n",
    "# parameters = {\n",
    "#     'n_estimators': [100, 200, 300],\n",
    "#     'max_depth': [None, 10, 20, 30],\n",
    "#     'min_samples_split': [2, 5, 10],\n",
    "#     'min_samples_leaf': [1, 2, 4]\n",
    "# }\n",
    "# grid_search = GridSearchCV(estimator=RandomForestClassifier(), \n",
    "#                            param_grid=parameters, \n",
    "#                            scoring='recall', \n",
    "#                            cv=5,\n",
    "#                            verbose=1,\n",
    "#                            n_jobs=-1)\n",
    "\n",
    "# grid_search.fit(sampled_xTrain_scaled, sampled_yTrain)\n",
    "\n",
    "# forestParams = grid_search.best_params_\n",
    "\n",
    "# forestParams\n"
   ]
  },
  {
   "cell_type": "code",
   "execution_count": 51,
   "metadata": {},
   "outputs": [],
   "source": [
    "forestParams = {'max_depth': 20,\n",
    "                'min_samples_leaf': 1,\n",
    "                'min_samples_split': 2,\n",
    "                'n_estimators': 100}"
   ]
  },
  {
   "cell_type": "markdown",
   "metadata": {},
   "source": [
    "### KNN"
   ]
  },
  {
   "cell_type": "code",
   "execution_count": 52,
   "metadata": {},
   "outputs": [],
   "source": [
    "# # KNN Hyper Param Optimization\n",
    "# parameters = {\n",
    "#     'n_neighbors': [3, 5, 7, 9],\n",
    "#     'weights': ['uniform', 'distance'],\n",
    "#     'p': [1, 2]\n",
    "# }\n",
    "# grid_search = GridSearchCV(estimator=KNeighborsClassifier(), \n",
    "#                            param_grid=parameters, \n",
    "#                            scoring='recall', \n",
    "#                            cv=5,\n",
    "#                            verbose=1,\n",
    "#                            n_jobs=-1)\n",
    "\n",
    "# grid_search.fit(sampled_xTrain_scaled, sampled_yTrain)\n",
    "\n",
    "# knnParams = grid_search.best_params_\n",
    "\n",
    "# knnParams\n"
   ]
  },
  {
   "cell_type": "code",
   "execution_count": 53,
   "metadata": {},
   "outputs": [],
   "source": [
    "knnParams = {'n_neighbors': 3, 'p': 2, 'weights': 'distance'}"
   ]
  },
  {
   "cell_type": "markdown",
   "metadata": {},
   "source": [
    "---"
   ]
  },
  {
   "cell_type": "markdown",
   "metadata": {},
   "source": [
    "## Cross Fold Validation                                                                              "
   ]
  },
  {
   "cell_type": "code",
   "execution_count": 54,
   "metadata": {},
   "outputs": [
    {
     "name": "stdout",
     "output_type": "stream",
     "text": [
      "Completed Fold 0\n",
      "    Accuracy=0.959421052631579    Recall=0.6123456790123457    FScore=0.7201451905626135\n",
      "Completed Fold 1\n",
      "    Accuracy=0.9598421052631579    Recall=0.6237745098039216    FScore=0.7274026438013577\n",
      "Completed Fold 2\n",
      "    Accuracy=0.9605789473684211    Recall=0.635474006116208    FScore=0.7350548284400426\n",
      "Completed Fold 3\n",
      "    Accuracy=0.9605789473684211    Recall=0.6317119393556538    FScore=0.7275372862859222\n",
      "Completed Fold 4\n",
      "    Accuracy=0.9611578947368421    Recall=0.6225582860743542    FScore=0.7280766396462786\n",
      "Mean accuracy score: 0.9603157894736842\n",
      "Mean f1 score: 0.7276433177472429\n",
      "Mean precision score: 0.8704543883200264\n",
      "Mean recall score: 0.6251728840724966\n"
     ]
    }
   ],
   "source": [
    "from sklearn.model_selection import StratifiedKFold\n",
    "from sklearn.metrics import f1_score, precision_score, recall_score, accuracy_score\n",
    "from sklearn.preprocessing import StandardScaler\n",
    "from sklearn.linear_model import LogisticRegression\n",
    "\n",
    "cv = StratifiedKFold(n_splits=5, shuffle=True, random_state=42)\n",
    "\n",
    "accuracyScores = []\n",
    "f1Scores = []\n",
    "precisionScores = []\n",
    "recallScores = []\n",
    "aucScores = []\n",
    "\n",
    "for i, (trainIndex, valIndex) in enumerate(cv.split(xTrain, yTrain)):\n",
    "\n",
    "    ### making training and validation sets\n",
    "    # Convert indices to list\n",
    "    trainIndex = trainIndex.tolist()\n",
    "    valIndex = valIndex.tolist()\n",
    "    \n",
    "    # Split the data into training and validation sets for this fold\n",
    "    xLocalTrain, xVal = xTrain.iloc[trainIndex], xDF.iloc[valIndex]\n",
    "    yLocalTrain, yVal = yTrain.iloc[trainIndex], yDF.iloc[valIndex]\n",
    "\n",
    "\n",
    "    ### feature scaling\n",
    "    xScaler = StandardScaler()\n",
    "    xColNames = xLocalTrain.columns.values.tolist()\n",
    "    # train the scaler and apply it to the training set\n",
    "    xTrainScaled = xScaler.fit_transform(xLocalTrain[xColNames])\n",
    "    # apply the scaling to the validation set\n",
    "    xValScaled = xScaler.transform(xVal[xColNames])\n",
    "\n",
    "    ### model training\n",
    "    # instantiate the model\n",
    "    clf = LogisticRegression(**logisticParams)\n",
    "    # Train the classifier on the training data\n",
    "    clf.fit(xTrainScaled, yLocalTrain)\n",
    "    \n",
    "    ### model prediction and evaluation\n",
    "    # Make predictions on the test data\n",
    "    yPred = clf.predict(xValScaled)\n",
    "\n",
    "    # Calculate metrics and store them\n",
    "    score = accuracy_score(yVal, yPred)\n",
    "    accuracyScores.append(score)\n",
    "\n",
    "    score = f1_score(yVal, yPred)\n",
    "    f1Scores.append(score)\n",
    "\n",
    "    score = precision_score(yVal, yPred)\n",
    "    precisionScores.append(score)\n",
    "\n",
    "    score = recall_score(yVal, yPred)\n",
    "    recallScores.append(score)\n",
    "\n",
    "    print(f\"Completed Fold {i}\")\n",
    "    print(f\"    Accuracy={accuracyScores[i]}    Recall={recallScores[i]}    FScore={f1Scores[i]}\")\n",
    "## Calculate the mean scores across all folds\n",
    "mean_score = sum(accuracyScores) / len(accuracyScores)\n",
    "print(\"Mean accuracy score:\", mean_score)\n",
    "\n",
    "mean_score = sum(f1Scores) / len(f1Scores)\n",
    "print(\"Mean f1 score:\", mean_score)\n",
    "\n",
    "mean_score = sum(precisionScores) / len(precisionScores)\n",
    "print(\"Mean precision score:\", mean_score)\n",
    "\n",
    "mean_score = sum(recallScores) / len(recallScores)\n",
    "print(\"Mean recall score:\", mean_score)"
   ]
  },
  {
   "cell_type": "code",
   "execution_count": 55,
   "metadata": {},
   "outputs": [
    {
     "name": "stdout",
     "output_type": "stream",
     "text": [
      "Completed Fold 0\n",
      "    Accuracy=0.9702631578947368    Recall=0.6666666666666666    FScore=0.7926605504587155\n",
      "Completed Fold 1\n",
      "    Accuracy=0.9704736842105263    Recall=0.6746323529411765    FScore=0.7969598262757872\n",
      "Completed Fold 2\n",
      "    Accuracy=0.9723684210526315    Recall=0.691131498470948    FScore=0.8114901256732494\n",
      "Completed Fold 3\n",
      "    Accuracy=0.9722631578947368    Recall=0.6866708780795957    FScore=0.8048870788596816\n",
      "Completed Fold 4\n",
      "    Accuracy=0.9731578947368421    Recall=0.6950220541902962    FScore=0.8122238586156112\n",
      "Mean accuracy score: 0.9717052631578946\n",
      "Mean f1 score: 0.8036442879766088\n",
      "Mean precision score: 0.9765403494099733\n",
      "Mean recall score: 0.6828246900697366\n"
     ]
    }
   ],
   "source": [
    "from sklearn.svm import SVC\n",
    "\n",
    "cv = StratifiedKFold(n_splits=5, shuffle=True, random_state=42)\n",
    "\n",
    "accuracyScores = []\n",
    "f1Scores = []\n",
    "precisionScores = []\n",
    "recallScores = []\n",
    "aucScores = []\n",
    "\n",
    "for i, (trainIndex, valIndex) in enumerate(cv.split(xTrain, yTrain)):\n",
    "\n",
    "    ### making training and validation sets\n",
    "    # Convert indices to list\n",
    "    trainIndex = trainIndex.tolist()\n",
    "    valIndex = valIndex.tolist()\n",
    "    \n",
    "    # Split the data into training and validation sets for this fold\n",
    "    xLocalTrain, xVal = xTrain.iloc[trainIndex], xDF.iloc[valIndex]\n",
    "    yLocalTrain, yVal = yTrain.iloc[trainIndex], yDF.iloc[valIndex]\n",
    "\n",
    "\n",
    "    ### feature scaling\n",
    "    xScaler = StandardScaler()\n",
    "    xColNames = xLocalTrain.columns.values.tolist()\n",
    "    # train the scaler and apply it to the training set\n",
    "    xTrainScaled = xScaler.fit_transform(xLocalTrain[xColNames])\n",
    "    # apply the scaling to the validation set\n",
    "    xValScaled = xScaler.transform(xVal[xColNames])\n",
    "\n",
    "    ### model training\n",
    "    # instantiate the model\n",
    "    clf = SVC(**svmParams)\n",
    "    # Train the classifier on the training data\n",
    "    clf.fit(xTrainScaled, yLocalTrain)\n",
    "    \n",
    "    ### model prediction and evaluation\n",
    "    # Make predictions on the test data\n",
    "    yPred = clf.predict(xValScaled)\n",
    "\n",
    "    # Calculate metrics and store them\n",
    "    score = accuracy_score(yVal, yPred)\n",
    "    accuracyScores.append(score)\n",
    "\n",
    "    score = f1_score(yVal, yPred)\n",
    "    f1Scores.append(score)\n",
    "\n",
    "    score = precision_score(yVal, yPred)\n",
    "    precisionScores.append(score)\n",
    "\n",
    "    score = recall_score(yVal, yPred)\n",
    "    recallScores.append(score)\n",
    "\n",
    "    print(f\"Completed Fold {i}\")\n",
    "    print(f\"    Accuracy={accuracyScores[i]}    Recall={recallScores[i]}    FScore={f1Scores[i]}\")\n",
    "## Calculate the mean scores across all folds\n",
    "mean_score = sum(accuracyScores) / len(accuracyScores)\n",
    "print(\"Mean accuracy score:\", mean_score)\n",
    "\n",
    "mean_score = sum(f1Scores) / len(f1Scores)\n",
    "print(\"Mean f1 score:\", mean_score)\n",
    "\n",
    "mean_score = sum(precisionScores) / len(precisionScores)\n",
    "print(\"Mean precision score:\", mean_score)\n",
    "\n",
    "mean_score = sum(recallScores) / len(recallScores)\n",
    "print(\"Mean recall score:\", mean_score)"
   ]
  },
  {
   "cell_type": "code",
   "execution_count": 56,
   "metadata": {},
   "outputs": [
    {
     "name": "stdout",
     "output_type": "stream",
     "text": [
      "Completed Fold 0\n",
      "    Accuracy=0.9870526315789474    Recall=0.9141975308641975    FScore=0.9233167082294265\n",
      "Completed Fold 1\n",
      "    Accuracy=0.9867368421052631    Recall=0.9160539215686274    FScore=0.9222702035780382\n",
      "Completed Fold 2\n",
      "    Accuracy=0.9867368421052631    Recall=0.9143730886850153    FScore=0.9222702035780382\n",
      "Completed Fold 3\n",
      "    Accuracy=0.9874736842105263    Recall=0.917877447883765    FScore=0.9243002544529262\n",
      "Completed Fold 4\n",
      "    Accuracy=0.9885263157894737    Recall=0.9193446754883428    FScore=0.930484693877551\n",
      "Mean accuracy score: 0.9873052631578947\n",
      "Mean f1 score: 0.924528412743196\n",
      "Mean precision score: 0.9328415143331531\n",
      "Mean recall score: 0.9163693328979896\n"
     ]
    }
   ],
   "source": [
    "from sklearn.tree import DecisionTreeClassifier\n",
    "\n",
    "cv = StratifiedKFold(n_splits=5, shuffle=True, random_state=42)\n",
    "\n",
    "accuracyScores = []\n",
    "f1Scores = []\n",
    "precisionScores = []\n",
    "recallScores = []\n",
    "aucScores = []\n",
    "\n",
    "for i, (trainIndex, valIndex) in enumerate(cv.split(xTrain, yTrain)):\n",
    "\n",
    "    ### making training and validation sets\n",
    "    # Convert indices to list\n",
    "    trainIndex = trainIndex.tolist()\n",
    "    valIndex = valIndex.tolist()\n",
    "    \n",
    "    # Split the data into training and validation sets for this fold\n",
    "    xLocalTrain, xVal = xTrain.iloc[trainIndex], xDF.iloc[valIndex]\n",
    "    yLocalTrain, yVal = yTrain.iloc[trainIndex], yDF.iloc[valIndex]\n",
    "\n",
    "\n",
    "    ### feature scaling\n",
    "    xScaler = StandardScaler()\n",
    "    xColNames = xLocalTrain.columns.values.tolist()\n",
    "    # train the scaler and apply it to the training set\n",
    "    xTrainScaled = xScaler.fit_transform(xLocalTrain[xColNames])\n",
    "    # apply the scaling to the validation set\n",
    "    xValScaled = xScaler.transform(xVal[xColNames])\n",
    "\n",
    "    ### model training\n",
    "    # instantiate the model\n",
    "    clf = DecisionTreeClassifier(**treeParams)\n",
    "    # Train the classifier on the training data\n",
    "    clf.fit(xTrainScaled, yLocalTrain)\n",
    "    \n",
    "    ### model prediction and evaluation\n",
    "    # Make predictions on the test data\n",
    "    yPred = clf.predict(xValScaled)\n",
    "\n",
    "    # Calculate metrics and store them\n",
    "    score = accuracy_score(yVal, yPred)\n",
    "    accuracyScores.append(score)\n",
    "\n",
    "    score = f1_score(yVal, yPred)\n",
    "    f1Scores.append(score)\n",
    "\n",
    "    score = precision_score(yVal, yPred)\n",
    "    precisionScores.append(score)\n",
    "\n",
    "    score = recall_score(yVal, yPred)\n",
    "    recallScores.append(score)\n",
    "\n",
    "    print(f\"Completed Fold {i}\")\n",
    "    print(f\"    Accuracy={accuracyScores[i]}    Recall={recallScores[i]}    FScore={f1Scores[i]}\")\n",
    "## Calculate the mean scores across all folds\n",
    "mean_score = sum(accuracyScores) / len(accuracyScores)\n",
    "print(\"Mean accuracy score:\", mean_score)\n",
    "\n",
    "mean_score = sum(f1Scores) / len(f1Scores)\n",
    "print(\"Mean f1 score:\", mean_score)\n",
    "\n",
    "mean_score = sum(precisionScores) / len(precisionScores)\n",
    "print(\"Mean precision score:\", mean_score)\n",
    "\n",
    "mean_score = sum(recallScores) / len(recallScores)\n",
    "print(\"Mean recall score:\", mean_score)"
   ]
  },
  {
   "cell_type": "code",
   "execution_count": 57,
   "metadata": {},
   "outputs": [
    {
     "name": "stdout",
     "output_type": "stream",
     "text": [
      "Completed Fold 0\n",
      "    Accuracy=0.975    Recall=0.7574074074074074    FScore=0.8378286104472517\n",
      "Completed Fold 1\n",
      "    Accuracy=0.9756315789473684    Recall=0.7536764705882353    FScore=0.8416010947656517\n",
      "Completed Fold 2\n",
      "    Accuracy=0.9768947368421053    Recall=0.7718654434250765    FScore=0.8518393520081\n",
      "Completed Fold 3\n",
      "    Accuracy=0.9773157894736842    Recall=0.8035375868603917    FScore=0.8551260504201681\n",
      "Completed Fold 4\n",
      "    Accuracy=0.9798421052631578    Recall=0.8059231253938248    FScore=0.8697721863311798\n",
      "Mean accuracy score: 0.9769368421052631\n",
      "Mean f1 score: 0.8512334587944703\n",
      "Mean precision score: 0.9397618885427326\n",
      "Mean recall score: 0.7784820067349871\n"
     ]
    }
   ],
   "source": [
    "from sklearn.neural_network import MLPClassifier\n",
    "\n",
    "cv = StratifiedKFold(n_splits=5, shuffle=True, random_state=42)\n",
    "\n",
    "accuracyScores = []\n",
    "f1Scores = []\n",
    "precisionScores = []\n",
    "recallScores = []\n",
    "aucScores = []\n",
    "\n",
    "for i, (trainIndex, valIndex) in enumerate(cv.split(xTrain, yTrain)):\n",
    "\n",
    "    ### making training and validation sets\n",
    "    # Convert indices to list\n",
    "    trainIndex = trainIndex.tolist()\n",
    "    valIndex = valIndex.tolist()\n",
    "    \n",
    "    # Split the data into training and validation sets for this fold\n",
    "    xLocalTrain, xVal = xTrain.iloc[trainIndex], xDF.iloc[valIndex]\n",
    "    yLocalTrain, yVal = yTrain.iloc[trainIndex], yDF.iloc[valIndex]\n",
    "\n",
    "\n",
    "    ### feature scaling\n",
    "    xScaler = StandardScaler()\n",
    "    xColNames = xLocalTrain.columns.values.tolist()\n",
    "    # train the scaler and apply it to the training set\n",
    "    xTrainScaled = xScaler.fit_transform(xLocalTrain[xColNames])\n",
    "    # apply the scaling to the validation set\n",
    "    xValScaled = xScaler.transform(xVal[xColNames])\n",
    "\n",
    "    ### model training\n",
    "    # instantiate the model\n",
    "    clf = MLPClassifier(**mlpParams)\n",
    "    # Train the classifier on the training data\n",
    "    clf.fit(xTrainScaled, yLocalTrain)\n",
    "    \n",
    "    ### model prediction and evaluation\n",
    "    # Make predictions on the test data\n",
    "    yPred = clf.predict(xValScaled)\n",
    "\n",
    "    # Calculate metrics and store them\n",
    "    score = accuracy_score(yVal, yPred)\n",
    "    accuracyScores.append(score)\n",
    "\n",
    "    score = f1_score(yVal, yPred)\n",
    "    f1Scores.append(score)\n",
    "\n",
    "    score = precision_score(yVal, yPred)\n",
    "    precisionScores.append(score)\n",
    "\n",
    "    score = recall_score(yVal, yPred)\n",
    "    recallScores.append(score)\n",
    "\n",
    "    print(f\"Completed Fold {i}\")\n",
    "    print(f\"    Accuracy={accuracyScores[i]}    Recall={recallScores[i]}    FScore={f1Scores[i]}\")\n",
    "## Calculate the mean scores across all folds\n",
    "mean_score = sum(accuracyScores) / len(accuracyScores)\n",
    "print(\"Mean accuracy score:\", mean_score)\n",
    "\n",
    "mean_score = sum(f1Scores) / len(f1Scores)\n",
    "print(\"Mean f1 score:\", mean_score)\n",
    "\n",
    "mean_score = sum(precisionScores) / len(precisionScores)\n",
    "print(\"Mean precision score:\", mean_score)\n",
    "\n",
    "mean_score = sum(recallScores) / len(recallScores)\n",
    "print(\"Mean recall score:\", mean_score)"
   ]
  },
  {
   "cell_type": "code",
   "execution_count": 58,
   "metadata": {},
   "outputs": [
    {
     "name": "stdout",
     "output_type": "stream",
     "text": [
      "Completed Fold 0\n",
      "    Accuracy=0.9847368421052631    Recall=0.825925925925926    FScore=0.9022252191503709\n",
      "Completed Fold 1\n",
      "    Accuracy=0.9853684210526316    Recall=0.8345588235294118    FScore=0.9073950699533645\n",
      "Completed Fold 2\n",
      "    Accuracy=0.9858947368421053    Recall=0.8397553516819571    FScore=0.9110816191108162\n",
      "Completed Fold 3\n",
      "    Accuracy=0.9852105263157894    Recall=0.8269109286165508    FScore=0.9030700241462574\n",
      "Completed Fold 4\n",
      "    Accuracy=0.9860526315789474    Recall=0.8393194706994329    FScore=0.909525435302151\n",
      "Mean accuracy score: 0.9854526315789475\n",
      "Mean f1 score: 0.9066594735325919\n",
      "Mean precision score: 0.9942190709604786\n",
      "Mean recall score: 0.8332941000906556\n"
     ]
    }
   ],
   "source": [
    "from sklearn.ensemble import RandomForestClassifier\n",
    "\n",
    "cv = StratifiedKFold(n_splits=5, shuffle=True, random_state=42)\n",
    "\n",
    "accuracyScores = []\n",
    "f1Scores = []\n",
    "precisionScores = []\n",
    "recallScores = []\n",
    "aucScores = []\n",
    "\n",
    "for i, (trainIndex, valIndex) in enumerate(cv.split(xTrain, yTrain)):\n",
    "\n",
    "    ### making training and validation sets\n",
    "    # Convert indices to list\n",
    "    trainIndex = trainIndex.tolist()\n",
    "    valIndex = valIndex.tolist()\n",
    "    \n",
    "    # Split the data into training and validation sets for this fold\n",
    "    xLocalTrain, xVal = xTrain.iloc[trainIndex], xDF.iloc[valIndex]\n",
    "    yLocalTrain, yVal = yTrain.iloc[trainIndex], yDF.iloc[valIndex]\n",
    "\n",
    "\n",
    "    ### feature scaling\n",
    "    xScaler = StandardScaler()\n",
    "    xColNames = xLocalTrain.columns.values.tolist()\n",
    "    # train the scaler and apply it to the training set\n",
    "    xTrainScaled = xScaler.fit_transform(xLocalTrain[xColNames])\n",
    "    # apply the scaling to the validation set\n",
    "    xValScaled = xScaler.transform(xVal[xColNames])\n",
    "\n",
    "    ### model training\n",
    "    # instantiate the model\n",
    "    clf = RandomForestClassifier(**forestParams)\n",
    "    # Train the classifier on the training data\n",
    "    clf.fit(xTrainScaled, yLocalTrain)\n",
    "    \n",
    "    ### model prediction and evaluation\n",
    "    # Make predictions on the validation data\n",
    "    yPred = clf.predict(xValScaled)\n",
    "\n",
    "    # Calculate metrics and store them\n",
    "    score = accuracy_score(yVal, yPred)\n",
    "    accuracyScores.append(score)\n",
    "\n",
    "    score = f1_score(yVal, yPred)\n",
    "    f1Scores.append(score)\n",
    "\n",
    "    score = precision_score(yVal, yPred)\n",
    "    precisionScores.append(score)\n",
    "\n",
    "    score = recall_score(yVal, yPred)\n",
    "    recallScores.append(score)\n",
    "\n",
    "    print(f\"Completed Fold {i}\")\n",
    "    print(f\"    Accuracy={accuracyScores[i]}    Recall={recallScores[i]}    FScore={f1Scores[i]}\")\n",
    "## Calculate the mean scores across all folds\n",
    "mean_score = sum(accuracyScores) / len(accuracyScores)\n",
    "print(\"Mean accuracy score:\", mean_score)\n",
    "\n",
    "mean_score = sum(f1Scores) / len(f1Scores)\n",
    "print(\"Mean f1 score:\", mean_score)\n",
    "\n",
    "mean_score = sum(precisionScores) / len(precisionScores)\n",
    "print(\"Mean precision score:\", mean_score)\n",
    "\n",
    "mean_score = sum(recallScores) / len(recallScores)\n",
    "print(\"Mean recall score:\", mean_score)\n"
   ]
  },
  {
   "cell_type": "code",
   "execution_count": 59,
   "metadata": {},
   "outputs": [
    {
     "name": "stdout",
     "output_type": "stream",
     "text": [
      "Completed Fold 0\n",
      "    Accuracy=0.988421052631579    Recall=0.9067901234567901    FScore=0.9303356554781507\n",
      "Completed Fold 1\n",
      "    Accuracy=0.9880526315789474    Recall=0.9025735294117647    FScore=0.9284588717302238\n",
      "Completed Fold 2\n",
      "    Accuracy=0.9889473684210527    Recall=0.908256880733945    FScore=0.9339622641509433\n",
      "Completed Fold 3\n",
      "    Accuracy=0.9888947368421053    Recall=0.903348073278585    FScore=0.9312927385216542\n",
      "Completed Fold 4\n",
      "    Accuracy=0.9901052631578947    Recall=0.9130434782608695    FScore=0.9390797148412183\n",
      "Mean accuracy score: 0.9888842105263158\n",
      "Mean f1 score: 0.9326258489444379\n",
      "Mean precision score: 0.9599680668731587\n",
      "Mean recall score: 0.9068024170283907\n"
     ]
    }
   ],
   "source": [
    "from sklearn.neighbors import KNeighborsClassifier\n",
    "\n",
    "cv = StratifiedKFold(n_splits=5, shuffle=True, random_state=42)\n",
    "\n",
    "accuracyScores = []\n",
    "f1Scores = []\n",
    "precisionScores = []\n",
    "recallScores = []\n",
    "aucScores = []\n",
    "\n",
    "for i, (trainIndex, valIndex) in enumerate(cv.split(xTrain, yTrain)):\n",
    "\n",
    "    ### making training and validation sets\n",
    "    # Convert indices to list\n",
    "    trainIndex = trainIndex.tolist()\n",
    "    valIndex = valIndex.tolist()\n",
    "    \n",
    "    # Split the data into training and validation sets for this fold\n",
    "    xLocalTrain, xVal = xTrain.iloc[trainIndex], xDF.iloc[valIndex]\n",
    "    yLocalTrain, yVal = yTrain.iloc[trainIndex], yDF.iloc[valIndex]\n",
    "\n",
    "\n",
    "    ### feature scaling\n",
    "    xScaler = StandardScaler()\n",
    "    xColNames = xLocalTrain.columns.values.tolist()\n",
    "    # train the scaler and apply it to the training set\n",
    "    xTrainScaled = xScaler.fit_transform(xLocalTrain[xColNames])\n",
    "    # apply the scaling to the validation set\n",
    "    xValScaled = xScaler.transform(xVal[xColNames])\n",
    "\n",
    "    ### model training\n",
    "    # instantiate the model\n",
    "    clf = KNeighborsClassifier(**knnParams)\n",
    "    # Train the classifier on the training data\n",
    "    clf.fit(xTrainScaled, yLocalTrain)\n",
    "    \n",
    "    ### model prediction and evaluation\n",
    "    # Make predictions on the validation data\n",
    "    yPred = clf.predict(xValScaled)\n",
    "\n",
    "    # Calculate metrics and store them\n",
    "    score = accuracy_score(yVal, yPred)\n",
    "    accuracyScores.append(score)\n",
    "\n",
    "    score = f1_score(yVal, yPred)\n",
    "    f1Scores.append(score)\n",
    "\n",
    "    score = precision_score(yVal, yPred)\n",
    "    precisionScores.append(score)\n",
    "\n",
    "    score = recall_score(yVal, yPred)\n",
    "    recallScores.append(score)\n",
    "\n",
    "    print(f\"Completed Fold {i}\")\n",
    "    print(f\"    Accuracy={accuracyScores[i]}    Recall={recallScores[i]}    FScore={f1Scores[i]}\")\n",
    "## Calculate the mean scores across all folds\n",
    "mean_score = sum(accuracyScores) / len(accuracyScores)\n",
    "print(\"Mean accuracy score:\", mean_score)\n",
    "\n",
    "mean_score = sum(f1Scores) / len(f1Scores)\n",
    "print(\"Mean f1 score:\", mean_score)\n",
    "\n",
    "mean_score = sum(precisionScores) / len(precisionScores)\n",
    "print(\"Mean precision score:\", mean_score)\n",
    "\n",
    "mean_score = sum(recallScores) / len(recallScores)\n",
    "print(\"Mean recall score:\", mean_score)\n"
   ]
  },
  {
   "cell_type": "markdown",
   "metadata": {},
   "source": [
    "---"
   ]
  },
  {
   "cell_type": "markdown",
   "metadata": {},
   "source": [
    "## Model Scores\n"
   ]
  },
  {
   "cell_type": "markdown",
   "metadata": {},
   "source": [
    "Logistic Regression\n",
    "\n",
    "- Mean accuracy score: 0.9602421052631579\n",
    "- Mean f1 score: 0.72728593314523\n",
    "- Mean precision score: 0.8688202734173156\n",
    "- Mean recall score: 0.6255267631572516"
   ]
  },
  {
   "cell_type": "markdown",
   "metadata": {},
   "source": [
    "SVC\n",
    "\n",
    "- Mean accuracy score: 0.9715789473684211\n",
    "- Mean f1 score: 0.8025831352536837\n",
    "- Mean precision score: 0.9760629636661617\n",
    "- Mean recall score: 0.6815458075431081"
   ]
  },
  {
   "cell_type": "markdown",
   "metadata": {},
   "source": [
    "Decision Tree\n",
    "\n",
    "- Mean accuracy score: 0.9869894736842106\n",
    "- Mean f1 score: 0.9222859969936833\n",
    "- Mean precision score: 0.9342861518880639\n",
    "- Mean recall score: 0.9105964274933827"
   ]
  },
  {
   "cell_type": "markdown",
   "metadata": {},
   "source": [
    "Neural Network\n",
    "\n",
    "- Mean accuracy score: 0.9760421052631578\n",
    "- Mean f1 score: 0.8462463243220334\n",
    "- Mean precision score: 0.928287545703838\n",
    "- Mean recall score: 0.7782451821848942"
   ]
  },
  {
   "cell_type": "markdown",
   "metadata": {},
   "source": [
    "Random Forest\n",
    "\n",
    "- Mean accuracy score: 0.9851157894736842\n",
    "- Mean f1 score: 0.9044399879797703\n",
    "- Mean precision score: 0.9924583218659164\n",
    "- Mean recall score: 0.8307880478756345"
   ]
  },
  {
   "cell_type": "markdown",
   "metadata": {},
   "source": [
    "  KNN\n",
    "- Mean accuracy score: 0.988642105263158\n",
    "- Mean f1 score: 0.9308631279127815\n",
    "- Mean precision score: 0.9616156810439289\n",
    "- Mean recall score: 0.9020329334056487"
   ]
  },
  {
   "cell_type": "markdown",
   "metadata": {},
   "source": [
    "---"
   ]
  },
  {
   "cell_type": "markdown",
   "metadata": {},
   "source": [
    "## Retraining Best Models"
   ]
  },
  {
   "cell_type": "code",
   "execution_count": 60,
   "metadata": {},
   "outputs": [],
   "source": [
    "### feature scaling\n",
    "xScaler = StandardScaler()\n",
    "xColNames = xLocalTrain.columns.values.tolist()\n",
    "# train the scaler and apply it to the training set\n",
    "xTrainScaled = xScaler.fit_transform(xTrain[xColNames])\n",
    "# apply the scaling to the testing set\n",
    "xTestScaled = xScaler.transform(xTest[xColNames])"
   ]
  },
  {
   "cell_type": "code",
   "execution_count": 61,
   "metadata": {},
   "outputs": [
    {
     "data": {
      "text/html": [
       "<div>\n",
       "<style scoped>\n",
       "    .dataframe tbody tr th:only-of-type {\n",
       "        vertical-align: middle;\n",
       "    }\n",
       "\n",
       "    .dataframe tbody tr th {\n",
       "        vertical-align: top;\n",
       "    }\n",
       "\n",
       "    .dataframe thead th {\n",
       "        text-align: right;\n",
       "    }\n",
       "</style>\n",
       "<table border=\"1\" class=\"dataframe\">\n",
       "  <thead>\n",
       "    <tr style=\"text-align: right;\">\n",
       "      <th></th>\n",
       "      <th>model</th>\n",
       "      <th>accuracy</th>\n",
       "      <th>fScore</th>\n",
       "      <th>precision</th>\n",
       "      <th>recall</th>\n",
       "    </tr>\n",
       "  </thead>\n",
       "  <tbody>\n",
       "    <tr>\n",
       "      <th>0</th>\n",
       "      <td>K-NN</td>\n",
       "      <td>0.9558</td>\n",
       "      <td>0.701754</td>\n",
       "      <td>0.822785</td>\n",
       "      <td>0.611765</td>\n",
       "    </tr>\n",
       "    <tr>\n",
       "      <th>1</th>\n",
       "      <td>Random Forest</td>\n",
       "      <td>0.9698</td>\n",
       "      <td>0.787623</td>\n",
       "      <td>0.979021</td>\n",
       "      <td>0.658824</td>\n",
       "    </tr>\n",
       "    <tr>\n",
       "      <th>2</th>\n",
       "      <td>Decision Tree</td>\n",
       "      <td>0.9540</td>\n",
       "      <td>0.726841</td>\n",
       "      <td>0.733813</td>\n",
       "      <td>0.720000</td>\n",
       "    </tr>\n",
       "  </tbody>\n",
       "</table>\n",
       "</div>"
      ],
      "text/plain": [
       "           model  accuracy    fScore  precision    recall\n",
       "0           K-NN    0.9558  0.701754   0.822785  0.611765\n",
       "1  Random Forest    0.9698  0.787623   0.979021  0.658824\n",
       "2  Decision Tree    0.9540  0.726841   0.733813  0.720000"
      ]
     },
     "execution_count": 61,
     "metadata": {},
     "output_type": "execute_result"
    }
   ],
   "source": [
    "# K-NN\n",
    "\n",
    "clf = KNeighborsClassifier(**knnParams)\n",
    "clf.fit(xTrainScaled, yTrain)\n",
    "\n",
    "preds = clf.predict(xTestScaled)\n",
    "\n",
    "nnAccuracy = accuracy_score(yTest, preds)\n",
    "nnFScore = f1_score(yTest, preds)\n",
    "nnPrecision = precision_score(yTest, preds)\n",
    "nnRecall = recall_score(yTest, preds)\n",
    "\n",
    "\n",
    "# Random Forest\n",
    "clf = RandomForestClassifier(**forestParams)\n",
    "clf.fit(xTrainScaled, yTrain)\n",
    "\n",
    "preds = clf.predict(xTestScaled)\n",
    "\n",
    "rfAccuracy = accuracy_score(yTest, preds)\n",
    "rfFScore = f1_score(yTest, preds)\n",
    "rfPrecision = precision_score(yTest, preds)\n",
    "rfRecall = recall_score(yTest, preds)\n",
    "\n",
    "# Decision Tree \n",
    "clf = DecisionTreeClassifier(**treeParams)\n",
    "clf.fit(xTrainScaled, yTrain)\n",
    "\n",
    "preds = clf.predict(xTestScaled)\n",
    "\n",
    "dtAccuracy = accuracy_score(yTest, preds)\n",
    "dtFScore = f1_score(yTest, preds)\n",
    "dtPrecision = precision_score(yTest, preds)\n",
    "dtRecall = recall_score(yTest, preds)\n",
    "scoreDict = {\"model\" : [\"K-NN\", \"Random Forest\",\"Decision Tree\"],\n",
    "            \"accuracy\" : [nnAccuracy, rfAccuracy, dtAccuracy],\n",
    "            \"fScore\" : [nnFScore, rfFScore, dtFScore],\n",
    "            \"precision\" : [nnPrecision, rfPrecision, dtPrecision],\n",
    "            \"recall\" : [nnRecall, rfRecall, dtRecall]}\n",
    "\n",
    "resultsDF = pd.DataFrame.from_dict(scoreDict)\n",
    "\n",
    "resultsDF"
   ]
  },
  {
   "cell_type": "code",
   "execution_count": 64,
   "metadata": {},
   "outputs": [
    {
     "data": {
      "text/html": [
       "<div>\n",
       "<style scoped>\n",
       "    .dataframe tbody tr th:only-of-type {\n",
       "        vertical-align: middle;\n",
       "    }\n",
       "\n",
       "    .dataframe tbody tr th {\n",
       "        vertical-align: top;\n",
       "    }\n",
       "\n",
       "    .dataframe thead th {\n",
       "        text-align: right;\n",
       "    }\n",
       "</style>\n",
       "<table border=\"1\" class=\"dataframe\">\n",
       "  <thead>\n",
       "    <tr style=\"text-align: right;\">\n",
       "      <th></th>\n",
       "      <th>model</th>\n",
       "      <th>accuracy</th>\n",
       "      <th>fScore</th>\n",
       "      <th>precision</th>\n",
       "    </tr>\n",
       "  </thead>\n",
       "  <tbody>\n",
       "    <tr>\n",
       "      <th>0</th>\n",
       "      <td>Decision Tree</td>\n",
       "      <td>0.840</td>\n",
       "      <td>0.891</td>\n",
       "      <td>0.912</td>\n",
       "    </tr>\n",
       "    <tr>\n",
       "      <th>1</th>\n",
       "      <td>Random Forest</td>\n",
       "      <td>0.941</td>\n",
       "      <td>0.959</td>\n",
       "      <td>0.976</td>\n",
       "    </tr>\n",
       "  </tbody>\n",
       "</table>\n",
       "</div>"
      ],
      "text/plain": [
       "           model  accuracy  fScore  precision\n",
       "0  Decision Tree     0.840   0.891      0.912\n",
       "1  Random Forest     0.941   0.959      0.976"
      ]
     },
     "execution_count": 64,
     "metadata": {},
     "output_type": "execute_result"
    }
   ],
   "source": [
    "# Prediction of Type 2 Diabetes using Machine Learning Article\n",
    "paper1Dict = {\"model\" : [\"Decision Tree\", \"Random Forest\"],\n",
    "            \"accuracy\" : [0.840, 0.941],\n",
    "            \"fScore\" : [0.891, 0.959],\n",
    "            \"precision\" : [0.912, 0.976]}\n",
    "paper1DF = pd.DataFrame.from_dict(paper1Dict)\n",
    "paper1DF\n"
   ]
  },
  {
   "cell_type": "code",
   "execution_count": 66,
   "metadata": {},
   "outputs": [
    {
     "data": {
      "text/html": [
       "<div>\n",
       "<style scoped>\n",
       "    .dataframe tbody tr th:only-of-type {\n",
       "        vertical-align: middle;\n",
       "    }\n",
       "\n",
       "    .dataframe tbody tr th {\n",
       "        vertical-align: top;\n",
       "    }\n",
       "\n",
       "    .dataframe thead th {\n",
       "        text-align: right;\n",
       "    }\n",
       "</style>\n",
       "<table border=\"1\" class=\"dataframe\">\n",
       "  <thead>\n",
       "    <tr style=\"text-align: right;\">\n",
       "      <th></th>\n",
       "      <th>model</th>\n",
       "      <th>accuracy</th>\n",
       "      <th>fScore</th>\n",
       "      <th>precision</th>\n",
       "      <th>recall</th>\n",
       "    </tr>\n",
       "  </thead>\n",
       "  <tbody>\n",
       "    <tr>\n",
       "      <th>0</th>\n",
       "      <td>Random Forest</td>\n",
       "      <td>0.937</td>\n",
       "      <td>0.86</td>\n",
       "      <td>0.86</td>\n",
       "      <td>0.86</td>\n",
       "    </tr>\n",
       "  </tbody>\n",
       "</table>\n",
       "</div>"
      ],
      "text/plain": [
       "           model  accuracy  fScore  precision  recall\n",
       "0  Random Forest     0.937    0.86       0.86    0.86"
      ]
     },
     "execution_count": 66,
     "metadata": {},
     "output_type": "execute_result"
    }
   ],
   "source": [
    "# A data driven approach to predicting diabetes with machine learning\n",
    "paper2Dict = {\"model\" : [ \"Random Forest\"],\n",
    "            \"accuracy\" : [0.937],\n",
    "            \"fScore\" : [0.86],\n",
    "            \"precision\" : [0.86],\n",
    "            \"recall\":[0.86]}\n",
    "paper2DF = pd.DataFrame.from_dict(paper2Dict)\n",
    "paper2DF\n"
   ]
  },
  {
   "cell_type": "code",
   "execution_count": 67,
   "metadata": {},
   "outputs": [
    {
     "data": {
      "text/html": [
       "<div>\n",
       "<style scoped>\n",
       "    .dataframe tbody tr th:only-of-type {\n",
       "        vertical-align: middle;\n",
       "    }\n",
       "\n",
       "    .dataframe tbody tr th {\n",
       "        vertical-align: top;\n",
       "    }\n",
       "\n",
       "    .dataframe thead th {\n",
       "        text-align: right;\n",
       "    }\n",
       "</style>\n",
       "<table border=\"1\" class=\"dataframe\">\n",
       "  <thead>\n",
       "    <tr style=\"text-align: right;\">\n",
       "      <th></th>\n",
       "      <th>model</th>\n",
       "      <th>acurracy</th>\n",
       "    </tr>\n",
       "  </thead>\n",
       "  <tbody>\n",
       "    <tr>\n",
       "      <th>0</th>\n",
       "      <td>K-NN</td>\n",
       "      <td>0.70</td>\n",
       "    </tr>\n",
       "    <tr>\n",
       "      <th>1</th>\n",
       "      <td>Decision Tree</td>\n",
       "      <td>0.78</td>\n",
       "    </tr>\n",
       "    <tr>\n",
       "      <th>2</th>\n",
       "      <td>Random Forest</td>\n",
       "      <td>0.80</td>\n",
       "    </tr>\n",
       "  </tbody>\n",
       "</table>\n",
       "</div>"
      ],
      "text/plain": [
       "           model  acurracy\n",
       "0           K-NN      0.70\n",
       "1  Decision Tree      0.78\n",
       "2  Random Forest      0.80"
      ]
     },
     "execution_count": 67,
     "metadata": {},
     "output_type": "execute_result"
    }
   ],
   "source": [
    "# Diabetes prediction using machine learning techniques.\n",
    "\n",
    "paper3Dict = {\"model\" :[\"K-NN\",\"Decision Tree\",\"Random Forest\"],\n",
    "            \"acurracy\": [0.7,0.78,0.8]}\n",
    "paper3DF = pd.DataFrame.from_dict(paper3Dict)\n",
    "paper3DF"
   ]
  }
 ],
 "metadata": {
  "kernelspec": {
   "display_name": "base",
   "language": "python",
   "name": "python3"
  },
  "language_info": {
   "codemirror_mode": {
    "name": "ipython",
    "version": 3
   },
   "file_extension": ".py",
   "mimetype": "text/x-python",
   "name": "python",
   "nbconvert_exporter": "python",
   "pygments_lexer": "ipython3",
   "version": "3.11.5"
  }
 },
 "nbformat": 4,
 "nbformat_minor": 2
}
